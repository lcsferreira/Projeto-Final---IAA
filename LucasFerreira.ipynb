{
  "cells": [
    {
      "cell_type": "markdown",
      "source": [
        "## CARREGAMENTO DOS DADOS"
      ],
      "metadata": {
        "id": "Cq2L3k20LfdO"
      }
    },
    {
      "cell_type": "code",
      "execution_count": null,
      "metadata": {
        "id": "RCIdExJv--dr"
      },
      "outputs": [],
      "source": [
        "import pandas as pd\n",
        "import numpy as np\n",
        "import matplotlib.pyplot as plt\n",
        "from sklearn.preprocessing import StandardScaler,MinMaxScaler\n",
        "from matplotlib.colors import ListedColormap\n",
        "from sklearn import decomposition\n",
        "from sklearn import preprocessing\n",
        "from sklearn.model_selection import train_test_split,GridSearchCV\n",
        "from sklearn.metrics import accuracy_score, balanced_accuracy_score,classification_report\n",
        "from sklearn.neural_network import MLPClassifier\n",
        "seed = 42\n",
        "import seaborn as sns"
      ]
    },
    {
      "cell_type": "code",
      "execution_count": null,
      "metadata": {
        "id": "B6cRaxb1-_zi"
      },
      "outputs": [],
      "source": [
        "train_data = pd.read_csv('/content/drive/MyDrive/IAA/ProjetoFinal/treino.csv')\n",
        "test_data = pd.read_csv('/content/drive/MyDrive/IAA/ProjetoFinal/teste.csv')"
      ]
    },
    {
      "cell_type": "markdown",
      "source": [
        "## Análise dos dados"
      ],
      "metadata": {
        "id": "2JhFMZtYLk3C"
      }
    },
    {
      "cell_type": "code",
      "execution_count": null,
      "metadata": {
        "colab": {
          "base_uri": "https://localhost:8080/"
        },
        "id": "iNjFkTXMBXg0",
        "outputId": "35a60ef6-967b-4efe-ea01-08fc02d4dd92"
      },
      "outputs": [
        {
          "output_type": "stream",
          "name": "stdout",
          "text": [
            "<class 'pandas.core.frame.DataFrame'>\n",
            "RangeIndex: 70000 entries, 0 to 69999\n",
            "Data columns (total 34 columns):\n",
            " #   Column  Non-Null Count  Dtype  \n",
            "---  ------  --------------  -----  \n",
            " 0   id      70000 non-null  int64  \n",
            " 1   col_0   70000 non-null  float64\n",
            " 2   col_1   70000 non-null  float64\n",
            " 3   col_2   70000 non-null  float64\n",
            " 4   col_3   70000 non-null  float64\n",
            " 5   col_4   70000 non-null  float64\n",
            " 6   col_5   70000 non-null  float64\n",
            " 7   col_6   70000 non-null  float64\n",
            " 8   col_7   70000 non-null  float64\n",
            " 9   col_8   70000 non-null  float64\n",
            " 10  col_9   70000 non-null  float64\n",
            " 11  col_10  70000 non-null  float64\n",
            " 12  col_11  70000 non-null  float64\n",
            " 13  col_12  70000 non-null  float64\n",
            " 14  col_13  70000 non-null  float64\n",
            " 15  col_14  70000 non-null  float64\n",
            " 16  col_15  70000 non-null  float64\n",
            " 17  col_16  70000 non-null  float64\n",
            " 18  col_17  70000 non-null  float64\n",
            " 19  col_18  70000 non-null  float64\n",
            " 20  col_19  70000 non-null  float64\n",
            " 21  col_20  70000 non-null  float64\n",
            " 22  col_21  70000 non-null  float64\n",
            " 23  col_22  70000 non-null  float64\n",
            " 24  col_23  70000 non-null  float64\n",
            " 25  col_24  70000 non-null  float64\n",
            " 26  col_25  70000 non-null  float64\n",
            " 27  col_26  70000 non-null  float64\n",
            " 28  col_27  70000 non-null  float64\n",
            " 29  col_28  70000 non-null  float64\n",
            " 30  col_29  70000 non-null  float64\n",
            " 31  col_30  70000 non-null  object \n",
            " 32  gender  70000 non-null  object \n",
            " 33  target  70000 non-null  int64  \n",
            "dtypes: float64(30), int64(2), object(2)\n",
            "memory usage: 18.2+ MB\n"
          ]
        }
      ],
      "source": [
        "train_data.info()"
      ]
    },
    {
      "cell_type": "code",
      "source": [
        "train_data[\"target\"].value_counts()"
      ],
      "metadata": {
        "colab": {
          "base_uri": "https://localhost:8080/"
        },
        "id": "4HxeRUQ5Aw09",
        "outputId": "35f4ea26-4acc-4b60-a047-54dceff24a1f"
      },
      "execution_count": null,
      "outputs": [
        {
          "output_type": "execute_result",
          "data": {
            "text/plain": [
              "0    32321\n",
              "1     7168\n",
              "2     6572\n",
              "3     5880\n",
              "6     4710\n",
              "4     4685\n",
              "5     4645\n",
              "7     4019\n",
              "Name: target, dtype: int64"
            ]
          },
          "metadata": {},
          "execution_count": 5
        }
      ]
    },
    {
      "cell_type": "code",
      "source": [
        "train_data"
      ],
      "metadata": {
        "colab": {
          "base_uri": "https://localhost:8080/",
          "height": 444
        },
        "id": "oiPK81yzNuKe",
        "outputId": "0328c679-0104-4fc8-97fc-dc13063a5fac"
      },
      "execution_count": null,
      "outputs": [
        {
          "output_type": "execute_result",
          "data": {
            "text/plain": [
              "          id       col_0      col_1      col_2       col_3       col_4  \\\n",
              "0       6550  383.962069  31.877400  20.940436  210.180396   67.665680   \n",
              "1      66905  419.112165  37.721698  19.783738  276.141957   89.101999   \n",
              "2      86340  285.626773  25.531304  15.359399  244.958947   78.950317   \n",
              "3      43383  290.917654  38.114595  17.762438  314.317800   98.343497   \n",
              "4      10966  410.320248  34.132931  14.044501  272.234285  103.166055   \n",
              "...      ...         ...        ...        ...         ...         ...   \n",
              "69995  58462  249.182757  36.463551  18.799871  273.124172   98.072060   \n",
              "69996   2210  338.354607  37.502556  14.792935  295.035544   71.750000   \n",
              "69997  86176  321.061642  34.398082  12.910206  306.557468   88.772265   \n",
              "69998   3293  210.593723  36.607676  13.095601  329.916522  106.857311   \n",
              "69999  38445  316.984475  46.504544  23.688645  250.935378   91.989698   \n",
              "\n",
              "            col_5      col_6       col_7      col_8  ...     col_23    col_24  \\\n",
              "0       89.197493  51.509044   98.440855  26.133755  ...  61.830444  8.370885   \n",
              "1       56.345658  59.991099   99.279104  39.540056  ...  93.476850  6.625610   \n",
              "2       86.405010  50.592107  100.735481  38.039717  ...  82.414287  8.161513   \n",
              "3       72.770055  44.436549  102.890685  35.385339  ...  65.195244  8.620515   \n",
              "4       78.884680  56.229949   66.615012  45.947103  ...  55.280394  4.494784   \n",
              "...           ...        ...         ...        ...  ...        ...       ...   \n",
              "69995  102.331838  36.294692  108.161477  34.908596  ...  68.536789  9.923963   \n",
              "69996   92.231495  31.688837  122.143620  41.343417  ...  86.687923  7.205988   \n",
              "69997  102.887099  49.967804  122.709574  37.768015  ...  72.180297  6.673999   \n",
              "69998   79.276385  49.198864   95.880383  35.858462  ...  74.924720  9.890982   \n",
              "69999   80.676087  37.609385   76.826427  45.993005  ...  72.518483  9.525025   \n",
              "\n",
              "          col_25     col_26     col_27    col_28     col_29       col_30  \\\n",
              "0      13.022698  30.039001  41.387833  1.694892  45.362438        baixo   \n",
              "1      12.006375  20.062669  31.910602  1.683118  46.894972  irrelevante   \n",
              "2      17.448588  28.372782  31.292485  1.283468  46.068444        medio   \n",
              "3      19.168315  28.528284  37.060180  2.137101  29.467236        baixo   \n",
              "4      14.382076  24.863610  31.371312  2.315021  72.456212         alto   \n",
              "...          ...        ...        ...       ...        ...          ...   \n",
              "69995  15.771815  19.108302  39.360633  1.675572  39.526944        baixo   \n",
              "69996  18.251649  32.296000  37.779362  2.291866  48.661079        baixo   \n",
              "69997  16.728874  38.472984  43.001779  1.981686  74.700022        baixo   \n",
              "69998  16.712560  25.713209  42.481834  2.344057  59.540550  irrelevante   \n",
              "69999  12.632546  17.797159  46.348678  1.562960  34.011630  irrelevante   \n",
              "\n",
              "       gender  target  \n",
              "0        male       2  \n",
              "1      female       6  \n",
              "2        male       0  \n",
              "3        male       6  \n",
              "4        male       1  \n",
              "...       ...     ...  \n",
              "69995  female       2  \n",
              "69996    male       0  \n",
              "69997  female       0  \n",
              "69998    male       0  \n",
              "69999  female       0  \n",
              "\n",
              "[70000 rows x 34 columns]"
            ],
            "text/html": [
              "\n",
              "  <div id=\"df-4578d35b-86d1-43f3-9f10-90174209326f\" class=\"colab-df-container\">\n",
              "    <div>\n",
              "<style scoped>\n",
              "    .dataframe tbody tr th:only-of-type {\n",
              "        vertical-align: middle;\n",
              "    }\n",
              "\n",
              "    .dataframe tbody tr th {\n",
              "        vertical-align: top;\n",
              "    }\n",
              "\n",
              "    .dataframe thead th {\n",
              "        text-align: right;\n",
              "    }\n",
              "</style>\n",
              "<table border=\"1\" class=\"dataframe\">\n",
              "  <thead>\n",
              "    <tr style=\"text-align: right;\">\n",
              "      <th></th>\n",
              "      <th>id</th>\n",
              "      <th>col_0</th>\n",
              "      <th>col_1</th>\n",
              "      <th>col_2</th>\n",
              "      <th>col_3</th>\n",
              "      <th>col_4</th>\n",
              "      <th>col_5</th>\n",
              "      <th>col_6</th>\n",
              "      <th>col_7</th>\n",
              "      <th>col_8</th>\n",
              "      <th>...</th>\n",
              "      <th>col_23</th>\n",
              "      <th>col_24</th>\n",
              "      <th>col_25</th>\n",
              "      <th>col_26</th>\n",
              "      <th>col_27</th>\n",
              "      <th>col_28</th>\n",
              "      <th>col_29</th>\n",
              "      <th>col_30</th>\n",
              "      <th>gender</th>\n",
              "      <th>target</th>\n",
              "    </tr>\n",
              "  </thead>\n",
              "  <tbody>\n",
              "    <tr>\n",
              "      <th>0</th>\n",
              "      <td>6550</td>\n",
              "      <td>383.962069</td>\n",
              "      <td>31.877400</td>\n",
              "      <td>20.940436</td>\n",
              "      <td>210.180396</td>\n",
              "      <td>67.665680</td>\n",
              "      <td>89.197493</td>\n",
              "      <td>51.509044</td>\n",
              "      <td>98.440855</td>\n",
              "      <td>26.133755</td>\n",
              "      <td>...</td>\n",
              "      <td>61.830444</td>\n",
              "      <td>8.370885</td>\n",
              "      <td>13.022698</td>\n",
              "      <td>30.039001</td>\n",
              "      <td>41.387833</td>\n",
              "      <td>1.694892</td>\n",
              "      <td>45.362438</td>\n",
              "      <td>baixo</td>\n",
              "      <td>male</td>\n",
              "      <td>2</td>\n",
              "    </tr>\n",
              "    <tr>\n",
              "      <th>1</th>\n",
              "      <td>66905</td>\n",
              "      <td>419.112165</td>\n",
              "      <td>37.721698</td>\n",
              "      <td>19.783738</td>\n",
              "      <td>276.141957</td>\n",
              "      <td>89.101999</td>\n",
              "      <td>56.345658</td>\n",
              "      <td>59.991099</td>\n",
              "      <td>99.279104</td>\n",
              "      <td>39.540056</td>\n",
              "      <td>...</td>\n",
              "      <td>93.476850</td>\n",
              "      <td>6.625610</td>\n",
              "      <td>12.006375</td>\n",
              "      <td>20.062669</td>\n",
              "      <td>31.910602</td>\n",
              "      <td>1.683118</td>\n",
              "      <td>46.894972</td>\n",
              "      <td>irrelevante</td>\n",
              "      <td>female</td>\n",
              "      <td>6</td>\n",
              "    </tr>\n",
              "    <tr>\n",
              "      <th>2</th>\n",
              "      <td>86340</td>\n",
              "      <td>285.626773</td>\n",
              "      <td>25.531304</td>\n",
              "      <td>15.359399</td>\n",
              "      <td>244.958947</td>\n",
              "      <td>78.950317</td>\n",
              "      <td>86.405010</td>\n",
              "      <td>50.592107</td>\n",
              "      <td>100.735481</td>\n",
              "      <td>38.039717</td>\n",
              "      <td>...</td>\n",
              "      <td>82.414287</td>\n",
              "      <td>8.161513</td>\n",
              "      <td>17.448588</td>\n",
              "      <td>28.372782</td>\n",
              "      <td>31.292485</td>\n",
              "      <td>1.283468</td>\n",
              "      <td>46.068444</td>\n",
              "      <td>medio</td>\n",
              "      <td>male</td>\n",
              "      <td>0</td>\n",
              "    </tr>\n",
              "    <tr>\n",
              "      <th>3</th>\n",
              "      <td>43383</td>\n",
              "      <td>290.917654</td>\n",
              "      <td>38.114595</td>\n",
              "      <td>17.762438</td>\n",
              "      <td>314.317800</td>\n",
              "      <td>98.343497</td>\n",
              "      <td>72.770055</td>\n",
              "      <td>44.436549</td>\n",
              "      <td>102.890685</td>\n",
              "      <td>35.385339</td>\n",
              "      <td>...</td>\n",
              "      <td>65.195244</td>\n",
              "      <td>8.620515</td>\n",
              "      <td>19.168315</td>\n",
              "      <td>28.528284</td>\n",
              "      <td>37.060180</td>\n",
              "      <td>2.137101</td>\n",
              "      <td>29.467236</td>\n",
              "      <td>baixo</td>\n",
              "      <td>male</td>\n",
              "      <td>6</td>\n",
              "    </tr>\n",
              "    <tr>\n",
              "      <th>4</th>\n",
              "      <td>10966</td>\n",
              "      <td>410.320248</td>\n",
              "      <td>34.132931</td>\n",
              "      <td>14.044501</td>\n",
              "      <td>272.234285</td>\n",
              "      <td>103.166055</td>\n",
              "      <td>78.884680</td>\n",
              "      <td>56.229949</td>\n",
              "      <td>66.615012</td>\n",
              "      <td>45.947103</td>\n",
              "      <td>...</td>\n",
              "      <td>55.280394</td>\n",
              "      <td>4.494784</td>\n",
              "      <td>14.382076</td>\n",
              "      <td>24.863610</td>\n",
              "      <td>31.371312</td>\n",
              "      <td>2.315021</td>\n",
              "      <td>72.456212</td>\n",
              "      <td>alto</td>\n",
              "      <td>male</td>\n",
              "      <td>1</td>\n",
              "    </tr>\n",
              "    <tr>\n",
              "      <th>...</th>\n",
              "      <td>...</td>\n",
              "      <td>...</td>\n",
              "      <td>...</td>\n",
              "      <td>...</td>\n",
              "      <td>...</td>\n",
              "      <td>...</td>\n",
              "      <td>...</td>\n",
              "      <td>...</td>\n",
              "      <td>...</td>\n",
              "      <td>...</td>\n",
              "      <td>...</td>\n",
              "      <td>...</td>\n",
              "      <td>...</td>\n",
              "      <td>...</td>\n",
              "      <td>...</td>\n",
              "      <td>...</td>\n",
              "      <td>...</td>\n",
              "      <td>...</td>\n",
              "      <td>...</td>\n",
              "      <td>...</td>\n",
              "      <td>...</td>\n",
              "    </tr>\n",
              "    <tr>\n",
              "      <th>69995</th>\n",
              "      <td>58462</td>\n",
              "      <td>249.182757</td>\n",
              "      <td>36.463551</td>\n",
              "      <td>18.799871</td>\n",
              "      <td>273.124172</td>\n",
              "      <td>98.072060</td>\n",
              "      <td>102.331838</td>\n",
              "      <td>36.294692</td>\n",
              "      <td>108.161477</td>\n",
              "      <td>34.908596</td>\n",
              "      <td>...</td>\n",
              "      <td>68.536789</td>\n",
              "      <td>9.923963</td>\n",
              "      <td>15.771815</td>\n",
              "      <td>19.108302</td>\n",
              "      <td>39.360633</td>\n",
              "      <td>1.675572</td>\n",
              "      <td>39.526944</td>\n",
              "      <td>baixo</td>\n",
              "      <td>female</td>\n",
              "      <td>2</td>\n",
              "    </tr>\n",
              "    <tr>\n",
              "      <th>69996</th>\n",
              "      <td>2210</td>\n",
              "      <td>338.354607</td>\n",
              "      <td>37.502556</td>\n",
              "      <td>14.792935</td>\n",
              "      <td>295.035544</td>\n",
              "      <td>71.750000</td>\n",
              "      <td>92.231495</td>\n",
              "      <td>31.688837</td>\n",
              "      <td>122.143620</td>\n",
              "      <td>41.343417</td>\n",
              "      <td>...</td>\n",
              "      <td>86.687923</td>\n",
              "      <td>7.205988</td>\n",
              "      <td>18.251649</td>\n",
              "      <td>32.296000</td>\n",
              "      <td>37.779362</td>\n",
              "      <td>2.291866</td>\n",
              "      <td>48.661079</td>\n",
              "      <td>baixo</td>\n",
              "      <td>male</td>\n",
              "      <td>0</td>\n",
              "    </tr>\n",
              "    <tr>\n",
              "      <th>69997</th>\n",
              "      <td>86176</td>\n",
              "      <td>321.061642</td>\n",
              "      <td>34.398082</td>\n",
              "      <td>12.910206</td>\n",
              "      <td>306.557468</td>\n",
              "      <td>88.772265</td>\n",
              "      <td>102.887099</td>\n",
              "      <td>49.967804</td>\n",
              "      <td>122.709574</td>\n",
              "      <td>37.768015</td>\n",
              "      <td>...</td>\n",
              "      <td>72.180297</td>\n",
              "      <td>6.673999</td>\n",
              "      <td>16.728874</td>\n",
              "      <td>38.472984</td>\n",
              "      <td>43.001779</td>\n",
              "      <td>1.981686</td>\n",
              "      <td>74.700022</td>\n",
              "      <td>baixo</td>\n",
              "      <td>female</td>\n",
              "      <td>0</td>\n",
              "    </tr>\n",
              "    <tr>\n",
              "      <th>69998</th>\n",
              "      <td>3293</td>\n",
              "      <td>210.593723</td>\n",
              "      <td>36.607676</td>\n",
              "      <td>13.095601</td>\n",
              "      <td>329.916522</td>\n",
              "      <td>106.857311</td>\n",
              "      <td>79.276385</td>\n",
              "      <td>49.198864</td>\n",
              "      <td>95.880383</td>\n",
              "      <td>35.858462</td>\n",
              "      <td>...</td>\n",
              "      <td>74.924720</td>\n",
              "      <td>9.890982</td>\n",
              "      <td>16.712560</td>\n",
              "      <td>25.713209</td>\n",
              "      <td>42.481834</td>\n",
              "      <td>2.344057</td>\n",
              "      <td>59.540550</td>\n",
              "      <td>irrelevante</td>\n",
              "      <td>male</td>\n",
              "      <td>0</td>\n",
              "    </tr>\n",
              "    <tr>\n",
              "      <th>69999</th>\n",
              "      <td>38445</td>\n",
              "      <td>316.984475</td>\n",
              "      <td>46.504544</td>\n",
              "      <td>23.688645</td>\n",
              "      <td>250.935378</td>\n",
              "      <td>91.989698</td>\n",
              "      <td>80.676087</td>\n",
              "      <td>37.609385</td>\n",
              "      <td>76.826427</td>\n",
              "      <td>45.993005</td>\n",
              "      <td>...</td>\n",
              "      <td>72.518483</td>\n",
              "      <td>9.525025</td>\n",
              "      <td>12.632546</td>\n",
              "      <td>17.797159</td>\n",
              "      <td>46.348678</td>\n",
              "      <td>1.562960</td>\n",
              "      <td>34.011630</td>\n",
              "      <td>irrelevante</td>\n",
              "      <td>female</td>\n",
              "      <td>0</td>\n",
              "    </tr>\n",
              "  </tbody>\n",
              "</table>\n",
              "<p>70000 rows × 34 columns</p>\n",
              "</div>\n",
              "    <div class=\"colab-df-buttons\">\n",
              "\n",
              "  <div class=\"colab-df-container\">\n",
              "    <button class=\"colab-df-convert\" onclick=\"convertToInteractive('df-4578d35b-86d1-43f3-9f10-90174209326f')\"\n",
              "            title=\"Convert this dataframe to an interactive table.\"\n",
              "            style=\"display:none;\">\n",
              "\n",
              "  <svg xmlns=\"http://www.w3.org/2000/svg\" height=\"24px\" viewBox=\"0 -960 960 960\">\n",
              "    <path d=\"M120-120v-720h720v720H120Zm60-500h600v-160H180v160Zm220 220h160v-160H400v160Zm0 220h160v-160H400v160ZM180-400h160v-160H180v160Zm440 0h160v-160H620v160ZM180-180h160v-160H180v160Zm440 0h160v-160H620v160Z\"/>\n",
              "  </svg>\n",
              "    </button>\n",
              "\n",
              "  <style>\n",
              "    .colab-df-container {\n",
              "      display:flex;\n",
              "      gap: 12px;\n",
              "    }\n",
              "\n",
              "    .colab-df-convert {\n",
              "      background-color: #E8F0FE;\n",
              "      border: none;\n",
              "      border-radius: 50%;\n",
              "      cursor: pointer;\n",
              "      display: none;\n",
              "      fill: #1967D2;\n",
              "      height: 32px;\n",
              "      padding: 0 0 0 0;\n",
              "      width: 32px;\n",
              "    }\n",
              "\n",
              "    .colab-df-convert:hover {\n",
              "      background-color: #E2EBFA;\n",
              "      box-shadow: 0px 1px 2px rgba(60, 64, 67, 0.3), 0px 1px 3px 1px rgba(60, 64, 67, 0.15);\n",
              "      fill: #174EA6;\n",
              "    }\n",
              "\n",
              "    .colab-df-buttons div {\n",
              "      margin-bottom: 4px;\n",
              "    }\n",
              "\n",
              "    [theme=dark] .colab-df-convert {\n",
              "      background-color: #3B4455;\n",
              "      fill: #D2E3FC;\n",
              "    }\n",
              "\n",
              "    [theme=dark] .colab-df-convert:hover {\n",
              "      background-color: #434B5C;\n",
              "      box-shadow: 0px 1px 3px 1px rgba(0, 0, 0, 0.15);\n",
              "      filter: drop-shadow(0px 1px 2px rgba(0, 0, 0, 0.3));\n",
              "      fill: #FFFFFF;\n",
              "    }\n",
              "  </style>\n",
              "\n",
              "    <script>\n",
              "      const buttonEl =\n",
              "        document.querySelector('#df-4578d35b-86d1-43f3-9f10-90174209326f button.colab-df-convert');\n",
              "      buttonEl.style.display =\n",
              "        google.colab.kernel.accessAllowed ? 'block' : 'none';\n",
              "\n",
              "      async function convertToInteractive(key) {\n",
              "        const element = document.querySelector('#df-4578d35b-86d1-43f3-9f10-90174209326f');\n",
              "        const dataTable =\n",
              "          await google.colab.kernel.invokeFunction('convertToInteractive',\n",
              "                                                    [key], {});\n",
              "        if (!dataTable) return;\n",
              "\n",
              "        const docLinkHtml = 'Like what you see? Visit the ' +\n",
              "          '<a target=\"_blank\" href=https://colab.research.google.com/notebooks/data_table.ipynb>data table notebook</a>'\n",
              "          + ' to learn more about interactive tables.';\n",
              "        element.innerHTML = '';\n",
              "        dataTable['output_type'] = 'display_data';\n",
              "        await google.colab.output.renderOutput(dataTable, element);\n",
              "        const docLink = document.createElement('div');\n",
              "        docLink.innerHTML = docLinkHtml;\n",
              "        element.appendChild(docLink);\n",
              "      }\n",
              "    </script>\n",
              "  </div>\n",
              "\n",
              "\n",
              "<div id=\"df-383d9c0d-81e7-4121-8285-c4552fc7da34\">\n",
              "  <button class=\"colab-df-quickchart\" onclick=\"quickchart('df-383d9c0d-81e7-4121-8285-c4552fc7da34')\"\n",
              "            title=\"Suggest charts.\"\n",
              "            style=\"display:none;\">\n",
              "\n",
              "<svg xmlns=\"http://www.w3.org/2000/svg\" height=\"24px\"viewBox=\"0 0 24 24\"\n",
              "     width=\"24px\">\n",
              "    <g>\n",
              "        <path d=\"M19 3H5c-1.1 0-2 .9-2 2v14c0 1.1.9 2 2 2h14c1.1 0 2-.9 2-2V5c0-1.1-.9-2-2-2zM9 17H7v-7h2v7zm4 0h-2V7h2v10zm4 0h-2v-4h2v4z\"/>\n",
              "    </g>\n",
              "</svg>\n",
              "  </button>\n",
              "\n",
              "<style>\n",
              "  .colab-df-quickchart {\n",
              "      --bg-color: #E8F0FE;\n",
              "      --fill-color: #1967D2;\n",
              "      --hover-bg-color: #E2EBFA;\n",
              "      --hover-fill-color: #174EA6;\n",
              "      --disabled-fill-color: #AAA;\n",
              "      --disabled-bg-color: #DDD;\n",
              "  }\n",
              "\n",
              "  [theme=dark] .colab-df-quickchart {\n",
              "      --bg-color: #3B4455;\n",
              "      --fill-color: #D2E3FC;\n",
              "      --hover-bg-color: #434B5C;\n",
              "      --hover-fill-color: #FFFFFF;\n",
              "      --disabled-bg-color: #3B4455;\n",
              "      --disabled-fill-color: #666;\n",
              "  }\n",
              "\n",
              "  .colab-df-quickchart {\n",
              "    background-color: var(--bg-color);\n",
              "    border: none;\n",
              "    border-radius: 50%;\n",
              "    cursor: pointer;\n",
              "    display: none;\n",
              "    fill: var(--fill-color);\n",
              "    height: 32px;\n",
              "    padding: 0;\n",
              "    width: 32px;\n",
              "  }\n",
              "\n",
              "  .colab-df-quickchart:hover {\n",
              "    background-color: var(--hover-bg-color);\n",
              "    box-shadow: 0 1px 2px rgba(60, 64, 67, 0.3), 0 1px 3px 1px rgba(60, 64, 67, 0.15);\n",
              "    fill: var(--button-hover-fill-color);\n",
              "  }\n",
              "\n",
              "  .colab-df-quickchart-complete:disabled,\n",
              "  .colab-df-quickchart-complete:disabled:hover {\n",
              "    background-color: var(--disabled-bg-color);\n",
              "    fill: var(--disabled-fill-color);\n",
              "    box-shadow: none;\n",
              "  }\n",
              "\n",
              "  .colab-df-spinner {\n",
              "    border: 2px solid var(--fill-color);\n",
              "    border-color: transparent;\n",
              "    border-bottom-color: var(--fill-color);\n",
              "    animation:\n",
              "      spin 1s steps(1) infinite;\n",
              "  }\n",
              "\n",
              "  @keyframes spin {\n",
              "    0% {\n",
              "      border-color: transparent;\n",
              "      border-bottom-color: var(--fill-color);\n",
              "      border-left-color: var(--fill-color);\n",
              "    }\n",
              "    20% {\n",
              "      border-color: transparent;\n",
              "      border-left-color: var(--fill-color);\n",
              "      border-top-color: var(--fill-color);\n",
              "    }\n",
              "    30% {\n",
              "      border-color: transparent;\n",
              "      border-left-color: var(--fill-color);\n",
              "      border-top-color: var(--fill-color);\n",
              "      border-right-color: var(--fill-color);\n",
              "    }\n",
              "    40% {\n",
              "      border-color: transparent;\n",
              "      border-right-color: var(--fill-color);\n",
              "      border-top-color: var(--fill-color);\n",
              "    }\n",
              "    60% {\n",
              "      border-color: transparent;\n",
              "      border-right-color: var(--fill-color);\n",
              "    }\n",
              "    80% {\n",
              "      border-color: transparent;\n",
              "      border-right-color: var(--fill-color);\n",
              "      border-bottom-color: var(--fill-color);\n",
              "    }\n",
              "    90% {\n",
              "      border-color: transparent;\n",
              "      border-bottom-color: var(--fill-color);\n",
              "    }\n",
              "  }\n",
              "</style>\n",
              "\n",
              "  <script>\n",
              "    async function quickchart(key) {\n",
              "      const quickchartButtonEl =\n",
              "        document.querySelector('#' + key + ' button');\n",
              "      quickchartButtonEl.disabled = true;  // To prevent multiple clicks.\n",
              "      quickchartButtonEl.classList.add('colab-df-spinner');\n",
              "      try {\n",
              "        const charts = await google.colab.kernel.invokeFunction(\n",
              "            'suggestCharts', [key], {});\n",
              "      } catch (error) {\n",
              "        console.error('Error during call to suggestCharts:', error);\n",
              "      }\n",
              "      quickchartButtonEl.classList.remove('colab-df-spinner');\n",
              "      quickchartButtonEl.classList.add('colab-df-quickchart-complete');\n",
              "    }\n",
              "    (() => {\n",
              "      let quickchartButtonEl =\n",
              "        document.querySelector('#df-383d9c0d-81e7-4121-8285-c4552fc7da34 button');\n",
              "      quickchartButtonEl.style.display =\n",
              "        google.colab.kernel.accessAllowed ? 'block' : 'none';\n",
              "    })();\n",
              "  </script>\n",
              "</div>\n",
              "    </div>\n",
              "  </div>\n"
            ]
          },
          "metadata": {},
          "execution_count": 17
        }
      ]
    },
    {
      "cell_type": "markdown",
      "source": [
        "## PRÉ-PROCESSAMENTO"
      ],
      "metadata": {
        "id": "4eE2pUCvLpWg"
      }
    },
    {
      "cell_type": "code",
      "source": [
        "# Substituir 'unknown' por NaN\n",
        "train_data['gender'].replace('unknown', np.nan, inplace=True)\n",
        "test_data['gender'].replace('unknown', np.nan, inplace=True)\n",
        "\n",
        "from sklearn.impute import SimpleImputer\n",
        "# Imputação usando a média\n",
        "imputer = SimpleImputer(strategy='most_frequent')\n",
        "train_data['gender'] = imputer.fit_transform(train_data[['gender']])\n",
        "test_data['gender'] = imputer.fit_transform(test_data[['gender']])\n",
        "\n",
        "# Substituir os NaNs imputados pelos valores mais frequentes\n",
        "train_data['gender'].replace(np.nan, train_data['gender'].mode()[0], inplace=True)\n",
        "test_data['gender'].replace(np.nan, test_data['gender'].mode()[0], inplace=True)"
      ],
      "metadata": {
        "id": "Hndp0R9ATYHN"
      },
      "execution_count": null,
      "outputs": []
    },
    {
      "cell_type": "code",
      "execution_count": null,
      "metadata": {
        "id": "t0-2UsCc_SjL"
      },
      "outputs": [],
      "source": [
        "train_data = train_data.drop(columns=[\"id\"])\n",
        "test_data = test_data.drop(columns=[\"id\"])"
      ]
    },
    {
      "cell_type": "code",
      "execution_count": null,
      "metadata": {
        "id": "afdoS4cE_hVU"
      },
      "outputs": [],
      "source": [
        "colunas_categoricas = ['gender', 'col_30']"
      ]
    },
    {
      "cell_type": "code",
      "execution_count": null,
      "metadata": {
        "id": "dqSdZ9gG_jhW"
      },
      "outputs": [],
      "source": [
        "colunas_nao_categoricas_treino = [coluna for coluna in train_data.columns if coluna not in colunas_categoricas]\n",
        "colunas_nao_categoricas_teste = [coluna for coluna in test_data.columns if coluna not in colunas_categoricas]\n",
        "\n",
        "\n",
        "train_data = pd.get_dummies(train_data, columns=colunas_categoricas)\n",
        "test_data = pd.get_dummies(test_data, columns=colunas_categoricas)"
      ]
    },
    {
      "cell_type": "code",
      "execution_count": null,
      "metadata": {
        "id": "KnEbow6bAC0u"
      },
      "outputs": [],
      "source": [
        "temp_target = train_data[\"target\"]"
      ]
    },
    {
      "cell_type": "code",
      "execution_count": null,
      "metadata": {
        "id": "J5U2upwwAEzy"
      },
      "outputs": [],
      "source": [
        "scaler = StandardScaler()\n",
        "train_data[colunas_nao_categoricas_treino] = scaler.fit_transform(train_data[colunas_nao_categoricas_treino])\n",
        "test_data[colunas_nao_categoricas_teste] = scaler.fit_transform(test_data[colunas_nao_categoricas_teste])\n"
      ]
    },
    {
      "cell_type": "code",
      "execution_count": null,
      "metadata": {
        "id": "uF-eXpdNAlZS"
      },
      "outputs": [],
      "source": [
        "train_data[\"target\"] = temp_target"
      ]
    },
    {
      "cell_type": "code",
      "execution_count": null,
      "metadata": {
        "colab": {
          "base_uri": "https://localhost:8080/",
          "height": 965
        },
        "id": "OPgNPxjkAw91",
        "outputId": "7ef65774-231e-4f43-b275-3c36484a55c9"
      },
      "outputs": [
        {
          "output_type": "display_data",
          "data": {
            "text/plain": [
              "<Figure size 1000x1000 with 2 Axes>"
            ],
            "image/png": "[encoded data removed]"
          },
          "metadata": {}
        }
      ],
      "source": [
        "# Calcular a matriz de correlação\n",
        "correlation_matrix = train_data.corr()\n",
        "\n",
        "plt.figure(figsize=(10, 10))\n",
        "sns.heatmap(correlation_matrix, linewidths=.6)\n",
        "plt.title(\"Matriz de Correlação\")\n",
        "plt.show()"
      ]
    },
    {
      "cell_type": "code",
      "execution_count": null,
      "metadata": {
        "id": "gJMs3aZqBxMk"
      },
      "outputs": [],
      "source": [
        "train_data = train_data.drop(columns=['col_4','col_12', 'col_13', 'col_14', 'gender_female'])\n",
        "test_data = test_data.drop(columns=['col_4','col_12', 'col_13', 'col_14', 'gender_female'])"
      ]
    },
    {
      "cell_type": "markdown",
      "source": [
        "## Treinamento dos modelos"
      ],
      "metadata": {
        "id": "_4wi-ReoUi98"
      }
    },
    {
      "cell_type": "code",
      "execution_count": null,
      "metadata": {
        "id": "QsyhRH7g_CR7"
      },
      "outputs": [],
      "source": [
        "train, test = train_test_split(train_data, test_size=0.2, stratify=train_data['target'])\n",
        "X_train = train.drop(columns=['target'])\n",
        "y_train = train['target']\n",
        "X_val = test.drop(columns=['target'])\n",
        "y_val = test['target']"
      ]
    },
    {
      "cell_type": "code",
      "execution_count": null,
      "metadata": {
        "id": "p7jIV_2P_dS_"
      },
      "outputs": [],
      "source": [
        "from sklearn import tree\n",
        "clf = tree.DecisionTreeClassifier(random_state=seed)\n",
        "clf = clf.fit(X_train, y_train)"
      ]
    },
    {
      "cell_type": "code",
      "execution_count": null,
      "metadata": {
        "colab": {
          "base_uri": "https://localhost:8080/"
        },
        "id": "N--FDBi_B8t2",
        "outputId": "8e136a68-8fa7-45dd-9416-9a7b7b5ce2fd"
      },
      "outputs": [
        {
          "output_type": "stream",
          "name": "stdout",
          "text": [
            "              precision    recall  f1-score   support\n",
            "\n",
            "           0       1.00      1.00      1.00     25857\n",
            "           1       1.00      1.00      1.00      5734\n",
            "           2       1.00      1.00      1.00      5258\n",
            "           3       1.00      1.00      1.00      4704\n",
            "           4       1.00      1.00      1.00      3748\n",
            "           5       1.00      1.00      1.00      3716\n",
            "           6       1.00      1.00      1.00      3768\n",
            "           7       1.00      1.00      1.00      3215\n",
            "\n",
            "    accuracy                           1.00     56000\n",
            "   macro avg       1.00      1.00      1.00     56000\n",
            "weighted avg       1.00      1.00      1.00     56000\n",
            "\n"
          ]
        }
      ],
      "source": [
        "print(classification_report(y_train, clf.predict(X_train)))"
      ]
    },
    {
      "cell_type": "code",
      "execution_count": null,
      "metadata": {
        "colab": {
          "base_uri": "https://localhost:8080/",
          "height": 75
        },
        "id": "IjxAGjwXB_6I",
        "outputId": "d71b5b92-c386-4d04-f1ab-8bbe80447ccb"
      },
      "outputs": [
        {
          "output_type": "execute_result",
          "data": {
            "text/plain": [
              "SVC()"
            ],
            "text/html": [
              "<style>#sk-container-id-1 {color: black;background-color: white;}#sk-container-id-1 pre{padding: 0;}#sk-container-id-1 div.sk-toggleable {background-color: white;}#sk-container-id-1 label.sk-toggleable__label {cursor: pointer;display: block;width: 100%;margin-bottom: 0;padding: 0.3em;box-sizing: border-box;text-align: center;}#sk-container-id-1 label.sk-toggleable__label-arrow:before {content: \"▸\";float: left;margin-right: 0.25em;color: #696969;}#sk-container-id-1 label.sk-toggleable__label-arrow:hover:before {color: black;}#sk-container-id-1 div.sk-estimator:hover label.sk-toggleable__label-arrow:before {color: black;}#sk-container-id-1 div.sk-toggleable__content {max-height: 0;max-width: 0;overflow: hidden;text-align: left;background-color: #f0f8ff;}#sk-container-id-1 div.sk-toggleable__content pre {margin: 0.2em;color: black;border-radius: 0.25em;background-color: #f0f8ff;}#sk-container-id-1 input.sk-toggleable__control:checked~div.sk-toggleable__content {max-height: 200px;max-width: 100%;overflow: auto;}#sk-container-id-1 input.sk-toggleable__control:checked~label.sk-toggleable__label-arrow:before {content: \"▾\";}#sk-container-id-1 div.sk-estimator input.sk-toggleable__control:checked~label.sk-toggleable__label {background-color: #d4ebff;}#sk-container-id-1 div.sk-label input.sk-toggleable__control:checked~label.sk-toggleable__label {background-color: #d4ebff;}#sk-container-id-1 input.sk-hidden--visually {border: 0;clip: rect(1px 1px 1px 1px);clip: rect(1px, 1px, 1px, 1px);height: 1px;margin: -1px;overflow: hidden;padding: 0;position: absolute;width: 1px;}#sk-container-id-1 div.sk-estimator {font-family: monospace;background-color: #f0f8ff;border: 1px dotted black;border-radius: 0.25em;box-sizing: border-box;margin-bottom: 0.5em;}#sk-container-id-1 div.sk-estimator:hover {background-color: #d4ebff;}#sk-container-id-1 div.sk-parallel-item::after {content: \"\";width: 100%;border-bottom: 1px solid gray;flex-grow: 1;}#sk-container-id-1 div.sk-label:hover label.sk-toggleable__label {background-color: #d4ebff;}#sk-container-id-1 div.sk-serial::before {content: \"\";position: absolute;border-left: 1px solid gray;box-sizing: border-box;top: 0;bottom: 0;left: 50%;z-index: 0;}#sk-container-id-1 div.sk-serial {display: flex;flex-direction: column;align-items: center;background-color: white;padding-right: 0.2em;padding-left: 0.2em;position: relative;}#sk-container-id-1 div.sk-item {position: relative;z-index: 1;}#sk-container-id-1 div.sk-parallel {display: flex;align-items: stretch;justify-content: center;background-color: white;position: relative;}#sk-container-id-1 div.sk-item::before, #sk-container-id-1 div.sk-parallel-item::before {content: \"\";position: absolute;border-left: 1px solid gray;box-sizing: border-box;top: 0;bottom: 0;left: 50%;z-index: -1;}#sk-container-id-1 div.sk-parallel-item {display: flex;flex-direction: column;z-index: 1;position: relative;background-color: white;}#sk-container-id-1 div.sk-parallel-item:first-child::after {align-self: flex-end;width: 50%;}#sk-container-id-1 div.sk-parallel-item:last-child::after {align-self: flex-start;width: 50%;}#sk-container-id-1 div.sk-parallel-item:only-child::after {width: 0;}#sk-container-id-1 div.sk-dashed-wrapped {border: 1px dashed gray;margin: 0 0.4em 0.5em 0.4em;box-sizing: border-box;padding-bottom: 0.4em;background-color: white;}#sk-container-id-1 div.sk-label label {font-family: monospace;font-weight: bold;display: inline-block;line-height: 1.2em;}#sk-container-id-1 div.sk-label-container {text-align: center;}#sk-container-id-1 div.sk-container {/* jupyter's `normalize.less` sets `[hidden] { display: none; }` but bootstrap.min.css set `[hidden] { display: none !important; }` so we also need the `!important` here to be able to override the default hidden behavior on the sphinx rendered scikit-learn.org. See: https://github.com/scikit-learn/scikit-learn/issues/21755 */display: inline-block !important;position: relative;}#sk-container-id-1 div.sk-text-repr-fallback {display: none;}</style><div id=\"sk-container-id-1\" class=\"sk-top-container\"><div class=\"sk-text-repr-fallback\"><pre>SVC()</pre><b>In a Jupyter environment, please rerun this cell to show the HTML representation or trust the notebook. <br />On GitHub, the HTML representation is unable to render, please try loading this page with nbviewer.org.</b></div><div class=\"sk-container\" hidden><div class=\"sk-item\"><div class=\"sk-estimator sk-toggleable\"><input class=\"sk-toggleable__control sk-hidden--visually\" id=\"sk-estimator-id-1\" type=\"checkbox\" checked><label for=\"sk-estimator-id-1\" class=\"sk-toggleable__label sk-toggleable__label-arrow\">SVC</label><div class=\"sk-toggleable__content\"><pre>SVC()</pre></div></div></div></div></div>"
            ]
          },
          "metadata": {},
          "execution_count": 41
        }
      ],
      "source": [
        "from sklearn.svm import SVC\n",
        "clf2 = SVC(kernel=\"rbf\", gamma=\"scale\")\n",
        "clf2.fit(X_train, y_train)"
      ]
    },
    {
      "cell_type": "code",
      "execution_count": null,
      "metadata": {
        "colab": {
          "base_uri": "https://localhost:8080/"
        },
        "id": "GTgg3niICCbz",
        "outputId": "5b854f81-0ee2-4be3-e28d-0a84b6807bad"
      },
      "outputs": [
        {
          "output_type": "stream",
          "name": "stdout",
          "text": [
            "              precision    recall  f1-score   support\n",
            "\n",
            "           0       0.68      0.98      0.80     25857\n",
            "           1       0.70      0.58      0.63      5734\n",
            "           2       0.72      0.50      0.59      5258\n",
            "           3       0.71      0.49      0.58      4704\n",
            "           4       0.78      0.36      0.49      3748\n",
            "           5       0.79      0.40      0.53      3716\n",
            "           6       0.76      0.40      0.53      3768\n",
            "           7       0.79      0.33      0.47      3215\n",
            "\n",
            "    accuracy                           0.70     56000\n",
            "   macro avg       0.74      0.51      0.58     56000\n",
            "weighted avg       0.71      0.70      0.67     56000\n",
            "\n"
          ]
        }
      ],
      "source": [
        "print(classification_report(y_train, clf2.predict(X_train)))"
      ]
    },
    {
      "cell_type": "code",
      "execution_count": null,
      "metadata": {
        "id": "HohBiWweVtXp",
        "colab": {
          "base_uri": "https://localhost:8080/",
          "height": 75
        },
        "outputId": "c6896de4-33b1-4820-cb7e-6997cff5b951"
      },
      "outputs": [
        {
          "output_type": "execute_result",
          "data": {
            "text/plain": [
              "KNeighborsClassifier(n_neighbors=6)"
            ],
            "text/html": [
              "<style>#sk-container-id-2 {color: black;background-color: white;}#sk-container-id-2 pre{padding: 0;}#sk-container-id-2 div.sk-toggleable {background-color: white;}#sk-container-id-2 label.sk-toggleable__label {cursor: pointer;display: block;width: 100%;margin-bottom: 0;padding: 0.3em;box-sizing: border-box;text-align: center;}#sk-container-id-2 label.sk-toggleable__label-arrow:before {content: \"▸\";float: left;margin-right: 0.25em;color: #696969;}#sk-container-id-2 label.sk-toggleable__label-arrow:hover:before {color: black;}#sk-container-id-2 div.sk-estimator:hover label.sk-toggleable__label-arrow:before {color: black;}#sk-container-id-2 div.sk-toggleable__content {max-height: 0;max-width: 0;overflow: hidden;text-align: left;background-color: #f0f8ff;}#sk-container-id-2 div.sk-toggleable__content pre {margin: 0.2em;color: black;border-radius: 0.25em;background-color: #f0f8ff;}#sk-container-id-2 input.sk-toggleable__control:checked~div.sk-toggleable__content {max-height: 200px;max-width: 100%;overflow: auto;}#sk-container-id-2 input.sk-toggleable__control:checked~label.sk-toggleable__label-arrow:before {content: \"▾\";}#sk-container-id-2 div.sk-estimator input.sk-toggleable__control:checked~label.sk-toggleable__label {background-color: #d4ebff;}#sk-container-id-2 div.sk-label input.sk-toggleable__control:checked~label.sk-toggleable__label {background-color: #d4ebff;}#sk-container-id-2 input.sk-hidden--visually {border: 0;clip: rect(1px 1px 1px 1px);clip: rect(1px, 1px, 1px, 1px);height: 1px;margin: -1px;overflow: hidden;padding: 0;position: absolute;width: 1px;}#sk-container-id-2 div.sk-estimator {font-family: monospace;background-color: #f0f8ff;border: 1px dotted black;border-radius: 0.25em;box-sizing: border-box;margin-bottom: 0.5em;}#sk-container-id-2 div.sk-estimator:hover {background-color: #d4ebff;}#sk-container-id-2 div.sk-parallel-item::after {content: \"\";width: 100%;border-bottom: 1px solid gray;flex-grow: 1;}#sk-container-id-2 div.sk-label:hover label.sk-toggleable__label {background-color: #d4ebff;}#sk-container-id-2 div.sk-serial::before {content: \"\";position: absolute;border-left: 1px solid gray;box-sizing: border-box;top: 0;bottom: 0;left: 50%;z-index: 0;}#sk-container-id-2 div.sk-serial {display: flex;flex-direction: column;align-items: center;background-color: white;padding-right: 0.2em;padding-left: 0.2em;position: relative;}#sk-container-id-2 div.sk-item {position: relative;z-index: 1;}#sk-container-id-2 div.sk-parallel {display: flex;align-items: stretch;justify-content: center;background-color: white;position: relative;}#sk-container-id-2 div.sk-item::before, #sk-container-id-2 div.sk-parallel-item::before {content: \"\";position: absolute;border-left: 1px solid gray;box-sizing: border-box;top: 0;bottom: 0;left: 50%;z-index: -1;}#sk-container-id-2 div.sk-parallel-item {display: flex;flex-direction: column;z-index: 1;position: relative;background-color: white;}#sk-container-id-2 div.sk-parallel-item:first-child::after {align-self: flex-end;width: 50%;}#sk-container-id-2 div.sk-parallel-item:last-child::after {align-self: flex-start;width: 50%;}#sk-container-id-2 div.sk-parallel-item:only-child::after {width: 0;}#sk-container-id-2 div.sk-dashed-wrapped {border: 1px dashed gray;margin: 0 0.4em 0.5em 0.4em;box-sizing: border-box;padding-bottom: 0.4em;background-color: white;}#sk-container-id-2 div.sk-label label {font-family: monospace;font-weight: bold;display: inline-block;line-height: 1.2em;}#sk-container-id-2 div.sk-label-container {text-align: center;}#sk-container-id-2 div.sk-container {/* jupyter's `normalize.less` sets `[hidden] { display: none; }` but bootstrap.min.css set `[hidden] { display: none !important; }` so we also need the `!important` here to be able to override the default hidden behavior on the sphinx rendered scikit-learn.org. See: https://github.com/scikit-learn/scikit-learn/issues/21755 */display: inline-block !important;position: relative;}#sk-container-id-2 div.sk-text-repr-fallback {display: none;}</style><div id=\"sk-container-id-2\" class=\"sk-top-container\"><div class=\"sk-text-repr-fallback\"><pre>KNeighborsClassifier(n_neighbors=6)</pre><b>In a Jupyter environment, please rerun this cell to show the HTML representation or trust the notebook. <br />On GitHub, the HTML representation is unable to render, please try loading this page with nbviewer.org.</b></div><div class=\"sk-container\" hidden><div class=\"sk-item\"><div class=\"sk-estimator sk-toggleable\"><input class=\"sk-toggleable__control sk-hidden--visually\" id=\"sk-estimator-id-2\" type=\"checkbox\" checked><label for=\"sk-estimator-id-2\" class=\"sk-toggleable__label sk-toggleable__label-arrow\">KNeighborsClassifier</label><div class=\"sk-toggleable__content\"><pre>KNeighborsClassifier(n_neighbors=6)</pre></div></div></div></div></div>"
            ]
          },
          "metadata": {},
          "execution_count": 43
        }
      ],
      "source": [
        "from sklearn.neighbors import KNeighborsClassifier\n",
        "clf3 = KNeighborsClassifier(6)\n",
        "clf3.fit(X_train, y_train)"
      ]
    },
    {
      "cell_type": "code",
      "execution_count": null,
      "metadata": {
        "id": "0rbZlVXSVu1S",
        "colab": {
          "base_uri": "https://localhost:8080/"
        },
        "outputId": "2e061f62-9824-40e1-e006-691601c98ab5"
      },
      "outputs": [
        {
          "output_type": "stream",
          "name": "stdout",
          "text": [
            "              precision    recall  f1-score   support\n",
            "\n",
            "           0       0.67      0.99      0.80     25857\n",
            "           1       0.70      0.60      0.65      5734\n",
            "           2       0.72      0.52      0.61      5258\n",
            "           3       0.74      0.48      0.58      4704\n",
            "           4       0.78      0.35      0.48      3748\n",
            "           5       0.79      0.38      0.52      3716\n",
            "           6       0.80      0.36      0.50      3768\n",
            "           7       0.81      0.30      0.44      3215\n",
            "\n",
            "    accuracy                           0.70     56000\n",
            "   macro avg       0.75      0.50      0.57     56000\n",
            "weighted avg       0.72      0.70      0.67     56000\n",
            "\n"
          ]
        }
      ],
      "source": [
        "print(classification_report(y_train, clf3.predict(X_train)))"
      ]
    },
    {
      "cell_type": "code",
      "execution_count": null,
      "metadata": {
        "id": "pTWxeYCaVbMP"
      },
      "outputs": [],
      "source": [
        "from sklearn.ensemble import RandomForestClassifier, VotingClassifier\n",
        "eclf1 = VotingClassifier(estimators=[('tree', clf), ('svc', clf2), ('knn', clf3)], voting='hard')"
      ]
    },
    {
      "cell_type": "code",
      "execution_count": null,
      "metadata": {
        "id": "LKYbZfMTVboN"
      },
      "outputs": [],
      "source": [
        "ensemble = eclf1.fit(X_train, y_train)"
      ]
    },
    {
      "cell_type": "code",
      "execution_count": null,
      "metadata": {
        "id": "PC5cjLf4VdRa"
      },
      "outputs": [],
      "source": [
        "predict_ensemble = ensemble.predict(X_val)"
      ]
    },
    {
      "cell_type": "code",
      "execution_count": null,
      "metadata": {
        "id": "FgPu5kQAVeYH",
        "colab": {
          "base_uri": "https://localhost:8080/"
        },
        "outputId": "59ab64c9-f562-4336-e9f4-b44293ec4c60"
      },
      "outputs": [
        {
          "output_type": "stream",
          "name": "stdout",
          "text": [
            "              precision    recall  f1-score   support\n",
            "\n",
            "           0       0.59      0.98      0.73      6464\n",
            "           1       0.54      0.43      0.48      1434\n",
            "           2       0.58      0.31      0.40      1314\n",
            "           3       0.60      0.26      0.36      1176\n",
            "           4       0.68      0.16      0.26       937\n",
            "           5       0.73      0.17      0.28       929\n",
            "           6       0.71      0.16      0.26       942\n",
            "           7       0.71      0.11      0.20       804\n",
            "\n",
            "    accuracy                           0.59     14000\n",
            "   macro avg       0.64      0.32      0.37     14000\n",
            "weighted avg       0.61      0.59      0.52     14000\n",
            "\n"
          ]
        }
      ],
      "source": [
        "print(classification_report(y_val, predict_ensemble))"
      ]
    },
    {
      "cell_type": "code",
      "source": [
        "param_grid = {\n",
        "    'tree__max_depth': [None, 10, 20, 30],  # Ajuste do hiperparâmetro max_depth para a árvore de decisão\n",
        "    'svc__C': [0.1, 1.0, 10.0],\n",
        "    'knn__n_neighbors': [3, 5, 7, 9, 11]\n",
        "}\n",
        "\n",
        "# grid_search = GridSearchCV(estimator=eclf1, param_grid=param_grid, cv=3)\n",
        "eclf1 = RandomizedSearchCV(eclf1, param_grid, n_iter=10, cv=3, random_state=seed)\n",
        "eclf1.fit(X_train, y_train)"
      ],
      "metadata": {
        "id": "spF2GQixz5kF",
        "colab": {
          "base_uri": "https://localhost:8080/",
          "height": 154
        },
        "outputId": "09b028dd-88f0-4da9-f6ea-c7866ce2beb8"
      },
      "execution_count": null,
      "outputs": [
        {
          "output_type": "execute_result",
          "data": {
            "text/plain": [
              "RandomizedSearchCV(cv=3,\n",
              "                   estimator=VotingClassifier(estimators=[('tree',\n",
              "                                                           DecisionTreeClassifier(random_state=42)),\n",
              "                                                          ('svc', SVC()),\n",
              "                                                          ('knn',\n",
              "                                                           KNeighborsClassifier(n_neighbors=6))]),\n",
              "                   param_distributions={'knn__n_neighbors': [3, 5, 7, 9, 11],\n",
              "                                        'svc__C': [0.1, 1.0, 10.0],\n",
              "                                        'tree__max_depth': [None, 10, 20, 30]},\n",
              "                   random_state=42)"
            ],
            "text/html": [
              "<style>#sk-container-id-8 {color: black;background-color: white;}#sk-container-id-8 pre{padding: 0;}#sk-container-id-8 div.sk-toggleable {background-color: white;}#sk-container-id-8 label.sk-toggleable__label {cursor: pointer;display: block;width: 100%;margin-bottom: 0;padding: 0.3em;box-sizing: border-box;text-align: center;}#sk-container-id-8 label.sk-toggleable__label-arrow:before {content: \"▸\";float: left;margin-right: 0.25em;color: #696969;}#sk-container-id-8 label.sk-toggleable__label-arrow:hover:before {color: black;}#sk-container-id-8 div.sk-estimator:hover label.sk-toggleable__label-arrow:before {color: black;}#sk-container-id-8 div.sk-toggleable__content {max-height: 0;max-width: 0;overflow: hidden;text-align: left;background-color: #f0f8ff;}#sk-container-id-8 div.sk-toggleable__content pre {margin: 0.2em;color: black;border-radius: 0.25em;background-color: #f0f8ff;}#sk-container-id-8 input.sk-toggleable__control:checked~div.sk-toggleable__content {max-height: 200px;max-width: 100%;overflow: auto;}#sk-container-id-8 input.sk-toggleable__control:checked~label.sk-toggleable__label-arrow:before {content: \"▾\";}#sk-container-id-8 div.sk-estimator input.sk-toggleable__control:checked~label.sk-toggleable__label {background-color: #d4ebff;}#sk-container-id-8 div.sk-label input.sk-toggleable__control:checked~label.sk-toggleable__label {background-color: #d4ebff;}#sk-container-id-8 input.sk-hidden--visually {border: 0;clip: rect(1px 1px 1px 1px);clip: rect(1px, 1px, 1px, 1px);height: 1px;margin: -1px;overflow: hidden;padding: 0;position: absolute;width: 1px;}#sk-container-id-8 div.sk-estimator {font-family: monospace;background-color: #f0f8ff;border: 1px dotted black;border-radius: 0.25em;box-sizing: border-box;margin-bottom: 0.5em;}#sk-container-id-8 div.sk-estimator:hover {background-color: #d4ebff;}#sk-container-id-8 div.sk-parallel-item::after {content: \"\";width: 100%;border-bottom: 1px solid gray;flex-grow: 1;}#sk-container-id-8 div.sk-label:hover label.sk-toggleable__label {background-color: #d4ebff;}#sk-container-id-8 div.sk-serial::before {content: \"\";position: absolute;border-left: 1px solid gray;box-sizing: border-box;top: 0;bottom: 0;left: 50%;z-index: 0;}#sk-container-id-8 div.sk-serial {display: flex;flex-direction: column;align-items: center;background-color: white;padding-right: 0.2em;padding-left: 0.2em;position: relative;}#sk-container-id-8 div.sk-item {position: relative;z-index: 1;}#sk-container-id-8 div.sk-parallel {display: flex;align-items: stretch;justify-content: center;background-color: white;position: relative;}#sk-container-id-8 div.sk-item::before, #sk-container-id-8 div.sk-parallel-item::before {content: \"\";position: absolute;border-left: 1px solid gray;box-sizing: border-box;top: 0;bottom: 0;left: 50%;z-index: -1;}#sk-container-id-8 div.sk-parallel-item {display: flex;flex-direction: column;z-index: 1;position: relative;background-color: white;}#sk-container-id-8 div.sk-parallel-item:first-child::after {align-self: flex-end;width: 50%;}#sk-container-id-8 div.sk-parallel-item:last-child::after {align-self: flex-start;width: 50%;}#sk-container-id-8 div.sk-parallel-item:only-child::after {width: 0;}#sk-container-id-8 div.sk-dashed-wrapped {border: 1px dashed gray;margin: 0 0.4em 0.5em 0.4em;box-sizing: border-box;padding-bottom: 0.4em;background-color: white;}#sk-container-id-8 div.sk-label label {font-family: monospace;font-weight: bold;display: inline-block;line-height: 1.2em;}#sk-container-id-8 div.sk-label-container {text-align: center;}#sk-container-id-8 div.sk-container {/* jupyter's `normalize.less` sets `[hidden] { display: none; }` but bootstrap.min.css set `[hidden] { display: none !important; }` so we also need the `!important` here to be able to override the default hidden behavior on the sphinx rendered scikit-learn.org. See: https://github.com/scikit-learn/scikit-learn/issues/21755 */display: inline-block !important;position: relative;}#sk-container-id-8 div.sk-text-repr-fallback {display: none;}</style><div id=\"sk-container-id-8\" class=\"sk-top-container\"><div class=\"sk-text-repr-fallback\"><pre>RandomizedSearchCV(cv=3,\n",
              "                   estimator=VotingClassifier(estimators=[(&#x27;tree&#x27;,\n",
              "                                                           DecisionTreeClassifier(random_state=42)),\n",
              "                                                          (&#x27;svc&#x27;, SVC()),\n",
              "                                                          (&#x27;knn&#x27;,\n",
              "                                                           KNeighborsClassifier(n_neighbors=6))]),\n",
              "                   param_distributions={&#x27;knn__n_neighbors&#x27;: [3, 5, 7, 9, 11],\n",
              "                                        &#x27;svc__C&#x27;: [0.1, 1.0, 10.0],\n",
              "                                        &#x27;tree__max_depth&#x27;: [None, 10, 20, 30]},\n",
              "                   random_state=42)</pre><b>In a Jupyter environment, please rerun this cell to show the HTML representation or trust the notebook. <br />On GitHub, the HTML representation is unable to render, please try loading this page with nbviewer.org.</b></div><div class=\"sk-container\" hidden><div class=\"sk-item sk-dashed-wrapped\"><div class=\"sk-label-container\"><div class=\"sk-label sk-toggleable\"><input class=\"sk-toggleable__control sk-hidden--visually\" id=\"sk-estimator-id-14\" type=\"checkbox\" ><label for=\"sk-estimator-id-14\" class=\"sk-toggleable__label sk-toggleable__label-arrow\">RandomizedSearchCV</label><div class=\"sk-toggleable__content\"><pre>RandomizedSearchCV(cv=3,\n",
              "                   estimator=VotingClassifier(estimators=[(&#x27;tree&#x27;,\n",
              "                                                           DecisionTreeClassifier(random_state=42)),\n",
              "                                                          (&#x27;svc&#x27;, SVC()),\n",
              "                                                          (&#x27;knn&#x27;,\n",
              "                                                           KNeighborsClassifier(n_neighbors=6))]),\n",
              "                   param_distributions={&#x27;knn__n_neighbors&#x27;: [3, 5, 7, 9, 11],\n",
              "                                        &#x27;svc__C&#x27;: [0.1, 1.0, 10.0],\n",
              "                                        &#x27;tree__max_depth&#x27;: [None, 10, 20, 30]},\n",
              "                   random_state=42)</pre></div></div></div><div class=\"sk-parallel\"><div class=\"sk-parallel-item\"><div class=\"sk-item\"><div class=\"sk-label-container\"><div class=\"sk-label sk-toggleable\"><input class=\"sk-toggleable__control sk-hidden--visually\" id=\"sk-estimator-id-15\" type=\"checkbox\" ><label for=\"sk-estimator-id-15\" class=\"sk-toggleable__label sk-toggleable__label-arrow\">estimator: VotingClassifier</label><div class=\"sk-toggleable__content\"><pre>VotingClassifier(estimators=[(&#x27;tree&#x27;, DecisionTreeClassifier(random_state=42)),\n",
              "                             (&#x27;svc&#x27;, SVC()),\n",
              "                             (&#x27;knn&#x27;, KNeighborsClassifier(n_neighbors=6))])</pre></div></div></div><div class=\"sk-serial\"><div class=\"sk-item sk-dashed-wrapped\"><div class=\"sk-parallel\"><div class=\"sk-parallel-item\"><div class=\"sk-item\"><div class=\"sk-label-container\"><div class=\"sk-label sk-toggleable\"><label>tree</label></div></div><div class=\"sk-serial\"><div class=\"sk-item\"><div class=\"sk-estimator sk-toggleable\"><input class=\"sk-toggleable__control sk-hidden--visually\" id=\"sk-estimator-id-16\" type=\"checkbox\" ><label for=\"sk-estimator-id-16\" class=\"sk-toggleable__label sk-toggleable__label-arrow\">DecisionTreeClassifier</label><div class=\"sk-toggleable__content\"><pre>DecisionTreeClassifier(random_state=42)</pre></div></div></div></div></div></div><div class=\"sk-parallel-item\"><div class=\"sk-item\"><div class=\"sk-label-container\"><div class=\"sk-label sk-toggleable\"><label>svc</label></div></div><div class=\"sk-serial\"><div class=\"sk-item\"><div class=\"sk-estimator sk-toggleable\"><input class=\"sk-toggleable__control sk-hidden--visually\" id=\"sk-estimator-id-17\" type=\"checkbox\" ><label for=\"sk-estimator-id-17\" class=\"sk-toggleable__label sk-toggleable__label-arrow\">SVC</label><div class=\"sk-toggleable__content\"><pre>SVC()</pre></div></div></div></div></div></div><div class=\"sk-parallel-item\"><div class=\"sk-item\"><div class=\"sk-label-container\"><div class=\"sk-label sk-toggleable\"><label>knn</label></div></div><div class=\"sk-serial\"><div class=\"sk-item\"><div class=\"sk-estimator sk-toggleable\"><input class=\"sk-toggleable__control sk-hidden--visually\" id=\"sk-estimator-id-18\" type=\"checkbox\" ><label for=\"sk-estimator-id-18\" class=\"sk-toggleable__label sk-toggleable__label-arrow\">KNeighborsClassifier</label><div class=\"sk-toggleable__content\"><pre>KNeighborsClassifier(n_neighbors=6)</pre></div></div></div></div></div></div></div></div></div></div></div></div></div></div></div>"
            ]
          },
          "metadata": {},
          "execution_count": 76
        }
      ]
    },
    {
      "cell_type": "code",
      "source": [
        "best_eclf1 = eclf1.best_estimator_\n",
        "\n",
        "y_pred = best_eclf1.predict(X_val)\n",
        "\n",
        "print(classification_report(y_val, y_pred))"
      ],
      "metadata": {
        "id": "BuWz5dPFz6U5",
        "colab": {
          "base_uri": "https://localhost:8080/"
        },
        "outputId": "6ba9b374-2814-4c6e-cb84-1b95a2f8cee2"
      },
      "execution_count": null,
      "outputs": [
        {
          "output_type": "stream",
          "name": "stdout",
          "text": [
            "              precision    recall  f1-score   support\n",
            "\n",
            "           0       0.58      0.99      0.73      6464\n",
            "           1       0.61      0.45      0.52      1434\n",
            "           2       0.64      0.33      0.44      1314\n",
            "           3       0.67      0.25      0.36      1176\n",
            "           4       0.71      0.16      0.27       937\n",
            "           5       0.81      0.18      0.29       929\n",
            "           6       0.78      0.18      0.30       942\n",
            "           7       0.77      0.12      0.21       804\n",
            "\n",
            "    accuracy                           0.60     14000\n",
            "   macro avg       0.70      0.33      0.39     14000\n",
            "weighted avg       0.64      0.60      0.53     14000\n",
            "\n",
            "Acurácia: 0.5965714285714285\n"
          ]
        }
      ]
    },
    {
      "cell_type": "code",
      "source": [
        "pred_final = best_eclf1.predict(test_data)"
      ],
      "metadata": {
        "id": "B0A7HeLg61Bk"
      },
      "execution_count": null,
      "outputs": []
    },
    {
      "cell_type": "code",
      "source": [
        "pred_final"
      ],
      "metadata": {
        "colab": {
          "base_uri": "https://localhost:8080/"
        },
        "id": "T8Sb6_8y7Kyb",
        "outputId": "7b3a5351-5570-4c75-e30d-874c266ff7e8"
      },
      "execution_count": null,
      "outputs": [
        {
          "output_type": "execute_result",
          "data": {
            "text/plain": [
              "array([0, 2, 0, ..., 0, 0, 0])"
            ]
          },
          "metadata": {},
          "execution_count": 85
        }
      ]
    },
    {
      "cell_type": "code",
      "source": [
        "ids = list(range(len(pred_final)))\n",
        "df = pd.DataFrame({'id': ids, 'target': pred_final})\n",
        "\n",
        "nome_arquivo = 'test_LucasFerreira.csv'\n",
        "df.to_csv(nome_arquivo, index=False)"
      ],
      "metadata": {
        "id": "V-JVlIBT_3vE"
      },
      "execution_count": null,
      "outputs": []
    },
    {
      "cell_type": "markdown",
      "source": [
        "## MLP"
      ],
      "metadata": {
        "id": "9eOufltZj1yX"
      }
    },
    {
      "cell_type": "code",
      "execution_count": null,
      "metadata": {
        "id": "PjGfEDzYKKEW",
        "colab": {
          "base_uri": "https://localhost:8080/",
          "height": 75
        },
        "outputId": "90ee3565-c9e6-4af0-b1f9-3f37d074352d"
      },
      "outputs": [
        {
          "output_type": "execute_result",
          "data": {
            "text/plain": [
              "MLPClassifier(max_iter=1000)"
            ],
            "text/html": [
              "<style>#sk-container-id-9 {color: black;background-color: white;}#sk-container-id-9 pre{padding: 0;}#sk-container-id-9 div.sk-toggleable {background-color: white;}#sk-container-id-9 label.sk-toggleable__label {cursor: pointer;display: block;width: 100%;margin-bottom: 0;padding: 0.3em;box-sizing: border-box;text-align: center;}#sk-container-id-9 label.sk-toggleable__label-arrow:before {content: \"▸\";float: left;margin-right: 0.25em;color: #696969;}#sk-container-id-9 label.sk-toggleable__label-arrow:hover:before {color: black;}#sk-container-id-9 div.sk-estimator:hover label.sk-toggleable__label-arrow:before {color: black;}#sk-container-id-9 div.sk-toggleable__content {max-height: 0;max-width: 0;overflow: hidden;text-align: left;background-color: #f0f8ff;}#sk-container-id-9 div.sk-toggleable__content pre {margin: 0.2em;color: black;border-radius: 0.25em;background-color: #f0f8ff;}#sk-container-id-9 input.sk-toggleable__control:checked~div.sk-toggleable__content {max-height: 200px;max-width: 100%;overflow: auto;}#sk-container-id-9 input.sk-toggleable__control:checked~label.sk-toggleable__label-arrow:before {content: \"▾\";}#sk-container-id-9 div.sk-estimator input.sk-toggleable__control:checked~label.sk-toggleable__label {background-color: #d4ebff;}#sk-container-id-9 div.sk-label input.sk-toggleable__control:checked~label.sk-toggleable__label {background-color: #d4ebff;}#sk-container-id-9 input.sk-hidden--visually {border: 0;clip: rect(1px 1px 1px 1px);clip: rect(1px, 1px, 1px, 1px);height: 1px;margin: -1px;overflow: hidden;padding: 0;position: absolute;width: 1px;}#sk-container-id-9 div.sk-estimator {font-family: monospace;background-color: #f0f8ff;border: 1px dotted black;border-radius: 0.25em;box-sizing: border-box;margin-bottom: 0.5em;}#sk-container-id-9 div.sk-estimator:hover {background-color: #d4ebff;}#sk-container-id-9 div.sk-parallel-item::after {content: \"\";width: 100%;border-bottom: 1px solid gray;flex-grow: 1;}#sk-container-id-9 div.sk-label:hover label.sk-toggleable__label {background-color: #d4ebff;}#sk-container-id-9 div.sk-serial::before {content: \"\";position: absolute;border-left: 1px solid gray;box-sizing: border-box;top: 0;bottom: 0;left: 50%;z-index: 0;}#sk-container-id-9 div.sk-serial {display: flex;flex-direction: column;align-items: center;background-color: white;padding-right: 0.2em;padding-left: 0.2em;position: relative;}#sk-container-id-9 div.sk-item {position: relative;z-index: 1;}#sk-container-id-9 div.sk-parallel {display: flex;align-items: stretch;justify-content: center;background-color: white;position: relative;}#sk-container-id-9 div.sk-item::before, #sk-container-id-9 div.sk-parallel-item::before {content: \"\";position: absolute;border-left: 1px solid gray;box-sizing: border-box;top: 0;bottom: 0;left: 50%;z-index: -1;}#sk-container-id-9 div.sk-parallel-item {display: flex;flex-direction: column;z-index: 1;position: relative;background-color: white;}#sk-container-id-9 div.sk-parallel-item:first-child::after {align-self: flex-end;width: 50%;}#sk-container-id-9 div.sk-parallel-item:last-child::after {align-self: flex-start;width: 50%;}#sk-container-id-9 div.sk-parallel-item:only-child::after {width: 0;}#sk-container-id-9 div.sk-dashed-wrapped {border: 1px dashed gray;margin: 0 0.4em 0.5em 0.4em;box-sizing: border-box;padding-bottom: 0.4em;background-color: white;}#sk-container-id-9 div.sk-label label {font-family: monospace;font-weight: bold;display: inline-block;line-height: 1.2em;}#sk-container-id-9 div.sk-label-container {text-align: center;}#sk-container-id-9 div.sk-container {/* jupyter's `normalize.less` sets `[hidden] { display: none; }` but bootstrap.min.css set `[hidden] { display: none !important; }` so we also need the `!important` here to be able to override the default hidden behavior on the sphinx rendered scikit-learn.org. See: https://github.com/scikit-learn/scikit-learn/issues/21755 */display: inline-block !important;position: relative;}#sk-container-id-9 div.sk-text-repr-fallback {display: none;}</style><div id=\"sk-container-id-9\" class=\"sk-top-container\"><div class=\"sk-text-repr-fallback\"><pre>MLPClassifier(max_iter=1000)</pre><b>In a Jupyter environment, please rerun this cell to show the HTML representation or trust the notebook. <br />On GitHub, the HTML representation is unable to render, please try loading this page with nbviewer.org.</b></div><div class=\"sk-container\" hidden><div class=\"sk-item\"><div class=\"sk-estimator sk-toggleable\"><input class=\"sk-toggleable__control sk-hidden--visually\" id=\"sk-estimator-id-19\" type=\"checkbox\" checked><label for=\"sk-estimator-id-19\" class=\"sk-toggleable__label sk-toggleable__label-arrow\">MLPClassifier</label><div class=\"sk-toggleable__content\"><pre>MLPClassifier(max_iter=1000)</pre></div></div></div></div></div>"
            ]
          },
          "metadata": {},
          "execution_count": 86
        }
      ],
      "source": [
        "clf4 = MLPClassifier(max_iter=1000)\n",
        "clf4.fit(X_train, y_train)"
      ]
    },
    {
      "cell_type": "code",
      "source": [
        "print(classification_report(y_train, clf4.predict(X_train)))"
      ],
      "metadata": {
        "colab": {
          "base_uri": "https://localhost:8080/"
        },
        "id": "JgwN75hUv06S",
        "outputId": "e875559b-698b-41ec-f4e2-aa55bf96f5d8"
      },
      "execution_count": null,
      "outputs": [
        {
          "output_type": "stream",
          "name": "stdout",
          "text": [
            "              precision    recall  f1-score   support\n",
            "\n",
            "           0       0.69      0.93      0.79     25857\n",
            "           1       0.53      0.46      0.49      5734\n",
            "           2       0.49      0.42      0.45      5258\n",
            "           3       0.49      0.38      0.43      4704\n",
            "           4       0.47      0.25      0.33      3748\n",
            "           5       0.51      0.25      0.33      3716\n",
            "           6       0.46      0.32      0.37      3768\n",
            "           7       0.45      0.25      0.32      3215\n",
            "\n",
            "    accuracy                           0.62     56000\n",
            "   macro avg       0.51      0.41      0.44     56000\n",
            "weighted avg       0.58      0.62      0.58     56000\n",
            "\n"
          ]
        }
      ]
    },
    {
      "cell_type": "code",
      "source": [
        "pred_final_mlp = clf4.predict(test_data)\n",
        "pred_final_mlp"
      ],
      "metadata": {
        "colab": {
          "base_uri": "https://localhost:8080/"
        },
        "id": "l8vGogzy9P_-",
        "outputId": "5b096bd2-ddff-478b-98d4-da5a4f324f2c"
      },
      "execution_count": null,
      "outputs": [
        {
          "output_type": "execute_result",
          "data": {
            "text/plain": [
              "array([0, 4, 6, ..., 6, 0, 0])"
            ]
          },
          "metadata": {},
          "execution_count": 90
        }
      ]
    },
    {
      "cell_type": "code",
      "source": [
        "# Criar um DataFrame com as colunas 'id' e 'target'\n",
        "df = pd.DataFrame({'id': ids, 'target': pred_final_mlp})\n",
        "\n",
        "# Salvar o DataFrame em um arquivo CSV\n",
        "nome_arquivo = 'predicoes.csv'\n",
        "df.to_csv(nome_arquivo, index=False)"
      ],
      "metadata": {
        "id": "uh8VK-_4_XrY"
      },
      "execution_count": null,
      "outputs": []
    },
    {
      "cell_type": "code",
      "source": [
        "parameter_space = {\n",
        "    'hidden_layer_sizes': [(10,30,10),(20,),(64,32)],\n",
        "    'activation': ['tanh', 'relu'],\n",
        "    'solver': ['sgd', 'adam'],\n",
        "    'alpha': [0.0001, 0.05],\n",
        "    'learning_rate': ['constant','adaptive'],\n",
        "}"
      ],
      "metadata": {
        "id": "2mKfLyBYtM1R"
      },
      "execution_count": null,
      "outputs": []
    },
    {
      "cell_type": "code",
      "source": [
        "from sklearn.model_selection import GridSearchCV, RandomizedSearchCV\n",
        "clf4_opt = RandomizedSearchCV(clf4, parameter_space, n_iter=10, cv=3, random_state=seed)\n",
        "clf4_opt.fit(X_train, y_train)"
      ],
      "metadata": {
        "id": "JY_hxr3DmfWf",
        "colab": {
          "base_uri": "https://localhost:8080/",
          "height": 119
        },
        "outputId": "035a3ebe-56e2-4750-d871-2be4b7d56c44"
      },
      "execution_count": null,
      "outputs": [
        {
          "output_type": "execute_result",
          "data": {
            "text/plain": [
              "RandomizedSearchCV(cv=3, estimator=MLPClassifier(max_iter=1000),\n",
              "                   param_distributions={'activation': ['tanh', 'relu'],\n",
              "                                        'alpha': [0.0001, 0.05],\n",
              "                                        'hidden_layer_sizes': [(10, 30, 10),\n",
              "                                                               (20,),\n",
              "                                                               (64, 32)],\n",
              "                                        'learning_rate': ['constant',\n",
              "                                                          'adaptive'],\n",
              "                                        'solver': ['sgd', 'adam']},\n",
              "                   random_state=42)"
            ],
            "text/html": [
              "<style>#sk-container-id-5 {color: black;background-color: white;}#sk-container-id-5 pre{padding: 0;}#sk-container-id-5 div.sk-toggleable {background-color: white;}#sk-container-id-5 label.sk-toggleable__label {cursor: pointer;display: block;width: 100%;margin-bottom: 0;padding: 0.3em;box-sizing: border-box;text-align: center;}#sk-container-id-5 label.sk-toggleable__label-arrow:before {content: \"▸\";float: left;margin-right: 0.25em;color: #696969;}#sk-container-id-5 label.sk-toggleable__label-arrow:hover:before {color: black;}#sk-container-id-5 div.sk-estimator:hover label.sk-toggleable__label-arrow:before {color: black;}#sk-container-id-5 div.sk-toggleable__content {max-height: 0;max-width: 0;overflow: hidden;text-align: left;background-color: #f0f8ff;}#sk-container-id-5 div.sk-toggleable__content pre {margin: 0.2em;color: black;border-radius: 0.25em;background-color: #f0f8ff;}#sk-container-id-5 input.sk-toggleable__control:checked~div.sk-toggleable__content {max-height: 200px;max-width: 100%;overflow: auto;}#sk-container-id-5 input.sk-toggleable__control:checked~label.sk-toggleable__label-arrow:before {content: \"▾\";}#sk-container-id-5 div.sk-estimator input.sk-toggleable__control:checked~label.sk-toggleable__label {background-color: #d4ebff;}#sk-container-id-5 div.sk-label input.sk-toggleable__control:checked~label.sk-toggleable__label {background-color: #d4ebff;}#sk-container-id-5 input.sk-hidden--visually {border: 0;clip: rect(1px 1px 1px 1px);clip: rect(1px, 1px, 1px, 1px);height: 1px;margin: -1px;overflow: hidden;padding: 0;position: absolute;width: 1px;}#sk-container-id-5 div.sk-estimator {font-family: monospace;background-color: #f0f8ff;border: 1px dotted black;border-radius: 0.25em;box-sizing: border-box;margin-bottom: 0.5em;}#sk-container-id-5 div.sk-estimator:hover {background-color: #d4ebff;}#sk-container-id-5 div.sk-parallel-item::after {content: \"\";width: 100%;border-bottom: 1px solid gray;flex-grow: 1;}#sk-container-id-5 div.sk-label:hover label.sk-toggleable__label {background-color: #d4ebff;}#sk-container-id-5 div.sk-serial::before {content: \"\";position: absolute;border-left: 1px solid gray;box-sizing: border-box;top: 0;bottom: 0;left: 50%;z-index: 0;}#sk-container-id-5 div.sk-serial {display: flex;flex-direction: column;align-items: center;background-color: white;padding-right: 0.2em;padding-left: 0.2em;position: relative;}#sk-container-id-5 div.sk-item {position: relative;z-index: 1;}#sk-container-id-5 div.sk-parallel {display: flex;align-items: stretch;justify-content: center;background-color: white;position: relative;}#sk-container-id-5 div.sk-item::before, #sk-container-id-5 div.sk-parallel-item::before {content: \"\";position: absolute;border-left: 1px solid gray;box-sizing: border-box;top: 0;bottom: 0;left: 50%;z-index: -1;}#sk-container-id-5 div.sk-parallel-item {display: flex;flex-direction: column;z-index: 1;position: relative;background-color: white;}#sk-container-id-5 div.sk-parallel-item:first-child::after {align-self: flex-end;width: 50%;}#sk-container-id-5 div.sk-parallel-item:last-child::after {align-self: flex-start;width: 50%;}#sk-container-id-5 div.sk-parallel-item:only-child::after {width: 0;}#sk-container-id-5 div.sk-dashed-wrapped {border: 1px dashed gray;margin: 0 0.4em 0.5em 0.4em;box-sizing: border-box;padding-bottom: 0.4em;background-color: white;}#sk-container-id-5 div.sk-label label {font-family: monospace;font-weight: bold;display: inline-block;line-height: 1.2em;}#sk-container-id-5 div.sk-label-container {text-align: center;}#sk-container-id-5 div.sk-container {/* jupyter's `normalize.less` sets `[hidden] { display: none; }` but bootstrap.min.css set `[hidden] { display: none !important; }` so we also need the `!important` here to be able to override the default hidden behavior on the sphinx rendered scikit-learn.org. See: https://github.com/scikit-learn/scikit-learn/issues/21755 */display: inline-block !important;position: relative;}#sk-container-id-5 div.sk-text-repr-fallback {display: none;}</style><div id=\"sk-container-id-5\" class=\"sk-top-container\"><div class=\"sk-text-repr-fallback\"><pre>RandomizedSearchCV(cv=3, estimator=MLPClassifier(max_iter=1000),\n",
              "                   param_distributions={&#x27;activation&#x27;: [&#x27;tanh&#x27;, &#x27;relu&#x27;],\n",
              "                                        &#x27;alpha&#x27;: [0.0001, 0.05],\n",
              "                                        &#x27;hidden_layer_sizes&#x27;: [(10, 30, 10),\n",
              "                                                               (20,),\n",
              "                                                               (64, 32)],\n",
              "                                        &#x27;learning_rate&#x27;: [&#x27;constant&#x27;,\n",
              "                                                          &#x27;adaptive&#x27;],\n",
              "                                        &#x27;solver&#x27;: [&#x27;sgd&#x27;, &#x27;adam&#x27;]},\n",
              "                   random_state=42)</pre><b>In a Jupyter environment, please rerun this cell to show the HTML representation or trust the notebook. <br />On GitHub, the HTML representation is unable to render, please try loading this page with nbviewer.org.</b></div><div class=\"sk-container\" hidden><div class=\"sk-item sk-dashed-wrapped\"><div class=\"sk-label-container\"><div class=\"sk-label sk-toggleable\"><input class=\"sk-toggleable__control sk-hidden--visually\" id=\"sk-estimator-id-9\" type=\"checkbox\" ><label for=\"sk-estimator-id-9\" class=\"sk-toggleable__label sk-toggleable__label-arrow\">RandomizedSearchCV</label><div class=\"sk-toggleable__content\"><pre>RandomizedSearchCV(cv=3, estimator=MLPClassifier(max_iter=1000),\n",
              "                   param_distributions={&#x27;activation&#x27;: [&#x27;tanh&#x27;, &#x27;relu&#x27;],\n",
              "                                        &#x27;alpha&#x27;: [0.0001, 0.05],\n",
              "                                        &#x27;hidden_layer_sizes&#x27;: [(10, 30, 10),\n",
              "                                                               (20,),\n",
              "                                                               (64, 32)],\n",
              "                                        &#x27;learning_rate&#x27;: [&#x27;constant&#x27;,\n",
              "                                                          &#x27;adaptive&#x27;],\n",
              "                                        &#x27;solver&#x27;: [&#x27;sgd&#x27;, &#x27;adam&#x27;]},\n",
              "                   random_state=42)</pre></div></div></div><div class=\"sk-parallel\"><div class=\"sk-parallel-item\"><div class=\"sk-item\"><div class=\"sk-label-container\"><div class=\"sk-label sk-toggleable\"><input class=\"sk-toggleable__control sk-hidden--visually\" id=\"sk-estimator-id-10\" type=\"checkbox\" ><label for=\"sk-estimator-id-10\" class=\"sk-toggleable__label sk-toggleable__label-arrow\">estimator: MLPClassifier</label><div class=\"sk-toggleable__content\"><pre>MLPClassifier(max_iter=1000)</pre></div></div></div><div class=\"sk-serial\"><div class=\"sk-item\"><div class=\"sk-estimator sk-toggleable\"><input class=\"sk-toggleable__control sk-hidden--visually\" id=\"sk-estimator-id-11\" type=\"checkbox\" ><label for=\"sk-estimator-id-11\" class=\"sk-toggleable__label sk-toggleable__label-arrow\">MLPClassifier</label><div class=\"sk-toggleable__content\"><pre>MLPClassifier(max_iter=1000)</pre></div></div></div></div></div></div></div></div></div></div>"
            ]
          },
          "metadata": {},
          "execution_count": 62
        }
      ]
    },
    {
      "cell_type": "code",
      "source": [
        "print('Best parameters found:\\n', clf4_opt.best_params_)"
      ],
      "metadata": {
        "id": "18a4Ub-YtbJ3",
        "colab": {
          "base_uri": "https://localhost:8080/"
        },
        "outputId": "99e4bc91-1c72-40a7-ba63-58668876afd4"
      },
      "execution_count": null,
      "outputs": [
        {
          "output_type": "stream",
          "name": "stdout",
          "text": [
            "Best parameters found:\n",
            " {'solver': 'adam', 'learning_rate': 'adaptive', 'hidden_layer_sizes': (20,), 'alpha': 0.05, 'activation': 'relu'}\n"
          ]
        }
      ]
    },
    {
      "cell_type": "code",
      "execution_count": null,
      "metadata": {
        "id": "M0LdzCCMKa6-",
        "colab": {
          "base_uri": "https://localhost:8080/"
        },
        "outputId": "a1307808-df83-4269-9d26-abcd4782e61b"
      },
      "outputs": [
        {
          "output_type": "stream",
          "name": "stdout",
          "text": [
            "              precision    recall  f1-score   support\n",
            "\n",
            "           0       0.59      0.94      0.73     25857\n",
            "           1       0.35      0.29      0.32      5734\n",
            "           2       0.30      0.22      0.25      5258\n",
            "           3       0.30      0.18      0.23      4704\n",
            "           4       0.30      0.07      0.11      3748\n",
            "           5       0.32      0.09      0.14      3716\n",
            "           6       0.29      0.08      0.12      3768\n",
            "           7       0.29      0.06      0.09      3215\n",
            "\n",
            "    accuracy                           0.52     56000\n",
            "   macro avg       0.34      0.24      0.25     56000\n",
            "weighted avg       0.44      0.52      0.44     56000\n",
            "\n"
          ]
        }
      ],
      "source": [
        "print(classification_report(y_train, clf4_opt.predict(X_train)))"
      ]
    },
    {
      "cell_type": "code",
      "source": [
        "best_params = {\n",
        "    'solver': 'adam',\n",
        "    'learning_rate': 'adaptive',\n",
        "    'hidden_layer_sizes': (20,),\n",
        "    'alpha': 0.05,\n",
        "    'activation': 'relu'\n",
        "}\n",
        "\n",
        "best_clf4 = MLPClassifier(\n",
        "    solver=best_params['solver'],\n",
        "    learning_rate=best_params['learning_rate'],\n",
        "    hidden_layer_sizes=best_params['hidden_layer_sizes'],\n",
        "    alpha=best_params['alpha'],\n",
        "    activation=best_params['activation'],\n",
        "    max_iter = 1000\n",
        ")"
      ],
      "metadata": {
        "id": "kzqm_rQyr5dU"
      },
      "execution_count": null,
      "outputs": []
    },
    {
      "cell_type": "code",
      "source": [
        "best_clf4.fit(X_train, y_train)"
      ],
      "metadata": {
        "colab": {
          "base_uri": "https://localhost:8080/",
          "height": 93
        },
        "id": "z0x7ymwkszul",
        "outputId": "b98e3f66-eefb-4a07-8a38-89fde85767e4"
      },
      "execution_count": null,
      "outputs": [
        {
          "output_type": "execute_result",
          "data": {
            "text/plain": [
              "MLPClassifier(alpha=0.05, hidden_layer_sizes=(20,), learning_rate='adaptive',\n",
              "              max_iter=1000)"
            ],
            "text/html": [
              "<style>#sk-container-id-7 {color: black;background-color: white;}#sk-container-id-7 pre{padding: 0;}#sk-container-id-7 div.sk-toggleable {background-color: white;}#sk-container-id-7 label.sk-toggleable__label {cursor: pointer;display: block;width: 100%;margin-bottom: 0;padding: 0.3em;box-sizing: border-box;text-align: center;}#sk-container-id-7 label.sk-toggleable__label-arrow:before {content: \"▸\";float: left;margin-right: 0.25em;color: #696969;}#sk-container-id-7 label.sk-toggleable__label-arrow:hover:before {color: black;}#sk-container-id-7 div.sk-estimator:hover label.sk-toggleable__label-arrow:before {color: black;}#sk-container-id-7 div.sk-toggleable__content {max-height: 0;max-width: 0;overflow: hidden;text-align: left;background-color: #f0f8ff;}#sk-container-id-7 div.sk-toggleable__content pre {margin: 0.2em;color: black;border-radius: 0.25em;background-color: #f0f8ff;}#sk-container-id-7 input.sk-toggleable__control:checked~div.sk-toggleable__content {max-height: 200px;max-width: 100%;overflow: auto;}#sk-container-id-7 input.sk-toggleable__control:checked~label.sk-toggleable__label-arrow:before {content: \"▾\";}#sk-container-id-7 div.sk-estimator input.sk-toggleable__control:checked~label.sk-toggleable__label {background-color: #d4ebff;}#sk-container-id-7 div.sk-label input.sk-toggleable__control:checked~label.sk-toggleable__label {background-color: #d4ebff;}#sk-container-id-7 input.sk-hidden--visually {border: 0;clip: rect(1px 1px 1px 1px);clip: rect(1px, 1px, 1px, 1px);height: 1px;margin: -1px;overflow: hidden;padding: 0;position: absolute;width: 1px;}#sk-container-id-7 div.sk-estimator {font-family: monospace;background-color: #f0f8ff;border: 1px dotted black;border-radius: 0.25em;box-sizing: border-box;margin-bottom: 0.5em;}#sk-container-id-7 div.sk-estimator:hover {background-color: #d4ebff;}#sk-container-id-7 div.sk-parallel-item::after {content: \"\";width: 100%;border-bottom: 1px solid gray;flex-grow: 1;}#sk-container-id-7 div.sk-label:hover label.sk-toggleable__label {background-color: #d4ebff;}#sk-container-id-7 div.sk-serial::before {content: \"\";position: absolute;border-left: 1px solid gray;box-sizing: border-box;top: 0;bottom: 0;left: 50%;z-index: 0;}#sk-container-id-7 div.sk-serial {display: flex;flex-direction: column;align-items: center;background-color: white;padding-right: 0.2em;padding-left: 0.2em;position: relative;}#sk-container-id-7 div.sk-item {position: relative;z-index: 1;}#sk-container-id-7 div.sk-parallel {display: flex;align-items: stretch;justify-content: center;background-color: white;position: relative;}#sk-container-id-7 div.sk-item::before, #sk-container-id-7 div.sk-parallel-item::before {content: \"\";position: absolute;border-left: 1px solid gray;box-sizing: border-box;top: 0;bottom: 0;left: 50%;z-index: -1;}#sk-container-id-7 div.sk-parallel-item {display: flex;flex-direction: column;z-index: 1;position: relative;background-color: white;}#sk-container-id-7 div.sk-parallel-item:first-child::after {align-self: flex-end;width: 50%;}#sk-container-id-7 div.sk-parallel-item:last-child::after {align-self: flex-start;width: 50%;}#sk-container-id-7 div.sk-parallel-item:only-child::after {width: 0;}#sk-container-id-7 div.sk-dashed-wrapped {border: 1px dashed gray;margin: 0 0.4em 0.5em 0.4em;box-sizing: border-box;padding-bottom: 0.4em;background-color: white;}#sk-container-id-7 div.sk-label label {font-family: monospace;font-weight: bold;display: inline-block;line-height: 1.2em;}#sk-container-id-7 div.sk-label-container {text-align: center;}#sk-container-id-7 div.sk-container {/* jupyter's `normalize.less` sets `[hidden] { display: none; }` but bootstrap.min.css set `[hidden] { display: none !important; }` so we also need the `!important` here to be able to override the default hidden behavior on the sphinx rendered scikit-learn.org. See: https://github.com/scikit-learn/scikit-learn/issues/21755 */display: inline-block !important;position: relative;}#sk-container-id-7 div.sk-text-repr-fallback {display: none;}</style><div id=\"sk-container-id-7\" class=\"sk-top-container\"><div class=\"sk-text-repr-fallback\"><pre>MLPClassifier(alpha=0.05, hidden_layer_sizes=(20,), learning_rate=&#x27;adaptive&#x27;,\n",
              "              max_iter=1000)</pre><b>In a Jupyter environment, please rerun this cell to show the HTML representation or trust the notebook. <br />On GitHub, the HTML representation is unable to render, please try loading this page with nbviewer.org.</b></div><div class=\"sk-container\" hidden><div class=\"sk-item\"><div class=\"sk-estimator sk-toggleable\"><input class=\"sk-toggleable__control sk-hidden--visually\" id=\"sk-estimator-id-13\" type=\"checkbox\" checked><label for=\"sk-estimator-id-13\" class=\"sk-toggleable__label sk-toggleable__label-arrow\">MLPClassifier</label><div class=\"sk-toggleable__content\"><pre>MLPClassifier(alpha=0.05, hidden_layer_sizes=(20,), learning_rate=&#x27;adaptive&#x27;,\n",
              "              max_iter=1000)</pre></div></div></div></div></div>"
            ]
          },
          "metadata": {},
          "execution_count": 73
        }
      ]
    },
    {
      "cell_type": "code",
      "source": [
        "print(classification_report(y_train, best_clf4.predict(X_train)))"
      ],
      "metadata": {
        "colab": {
          "base_uri": "https://localhost:8080/"
        },
        "id": "9KbJQRErs3a1",
        "outputId": "4fdadbf6-c08f-498f-fa5c-3dd0449876d6"
      },
      "execution_count": null,
      "outputs": [
        {
          "output_type": "stream",
          "name": "stdout",
          "text": [
            "              precision    recall  f1-score   support\n",
            "\n",
            "           0       0.59      0.94      0.72     25857\n",
            "           1       0.35      0.29      0.32      5734\n",
            "           2       0.30      0.19      0.23      5258\n",
            "           3       0.33      0.21      0.26      4704\n",
            "           4       0.30      0.08      0.12      3748\n",
            "           5       0.31      0.05      0.09      3716\n",
            "           6       0.27      0.12      0.17      3768\n",
            "           7       0.26      0.04      0.06      3215\n",
            "\n",
            "    accuracy                           0.52     56000\n",
            "   macro avg       0.34      0.24      0.25     56000\n",
            "weighted avg       0.44      0.52      0.44     56000\n",
            "\n"
          ]
        }
      ]
    },
    {
      "cell_type": "code",
      "source": [
        "print(classification_report(y_val, best_clf4.predict(X_val)))"
      ],
      "metadata": {
        "colab": {
          "base_uri": "https://localhost:8080/"
        },
        "id": "Nazxl8sws4yz",
        "outputId": "677282be-6903-4a0c-e52e-74d8cbd2ffa0"
      },
      "execution_count": null,
      "outputs": [
        {
          "output_type": "stream",
          "name": "stdout",
          "text": [
            "              precision    recall  f1-score   support\n",
            "\n",
            "           0       0.59      0.93      0.72      6464\n",
            "           1       0.34      0.29      0.31      1434\n",
            "           2       0.29      0.18      0.22      1314\n",
            "           3       0.28      0.19      0.23      1176\n",
            "           4       0.26      0.07      0.10       937\n",
            "           5       0.24      0.04      0.07       929\n",
            "           6       0.26      0.11      0.15       942\n",
            "           7       0.24      0.03      0.06       804\n",
            "\n",
            "    accuracy                           0.51     14000\n",
            "   macro avg       0.31      0.23      0.23     14000\n",
            "weighted avg       0.42      0.51      0.43     14000\n",
            "\n"
          ]
        }
      ]
    },
    {
      "cell_type": "markdown",
      "source": [
        "## modelo final"
      ],
      "metadata": {
        "id": "fJZGDpLGHY3b"
      }
    },
    {
      "cell_type": "code",
      "source": [
        "voting_classifier = VotingClassifier(estimators=[\n",
        "    ('mlp', best_clf4),\n",
        "    (\"vtc\", best_eclf1)\n",
        "], voting='hard')"
      ],
      "metadata": {
        "id": "j1xdj4SjHagz"
      },
      "execution_count": null,
      "outputs": []
    },
    {
      "cell_type": "code",
      "source": [
        "voting_classifier.fit(X_train, y_train)"
      ],
      "metadata": {
        "colab": {
          "base_uri": "https://localhost:8080/",
          "height": 147
        },
        "id": "YQRNp6wrHldf",
        "outputId": "7e1e6ce6-61e8-453e-9867-69ace70111de"
      },
      "execution_count": null,
      "outputs": [
        {
          "output_type": "execute_result",
          "data": {
            "text/plain": [
              "VotingClassifier(estimators=[('mlp',\n",
              "                              MLPClassifier(alpha=0.05,\n",
              "                                            hidden_layer_sizes=(20,),\n",
              "                                            learning_rate='adaptive',\n",
              "                                            max_iter=1000)),\n",
              "                             ('vtc',\n",
              "                              VotingClassifier(estimators=[('tree',\n",
              "                                                            DecisionTreeClassifier(max_depth=10,\n",
              "                                                                                   random_state=42)),\n",
              "                                                           ('svc', SVC(C=10.0)),\n",
              "                                                           ('knn',\n",
              "                                                            KNeighborsClassifier(n_neighbors=7))]))])"
            ],
            "text/html": [
              "<style>#sk-container-id-11 {color: black;background-color: white;}#sk-container-id-11 pre{padding: 0;}#sk-container-id-11 div.sk-toggleable {background-color: white;}#sk-container-id-11 label.sk-toggleable__label {cursor: pointer;display: block;width: 100%;margin-bottom: 0;padding: 0.3em;box-sizing: border-box;text-align: center;}#sk-container-id-11 label.sk-toggleable__label-arrow:before {content: \"▸\";float: left;margin-right: 0.25em;color: #696969;}#sk-container-id-11 label.sk-toggleable__label-arrow:hover:before {color: black;}#sk-container-id-11 div.sk-estimator:hover label.sk-toggleable__label-arrow:before {color: black;}#sk-container-id-11 div.sk-toggleable__content {max-height: 0;max-width: 0;overflow: hidden;text-align: left;background-color: #f0f8ff;}#sk-container-id-11 div.sk-toggleable__content pre {margin: 0.2em;color: black;border-radius: 0.25em;background-color: #f0f8ff;}#sk-container-id-11 input.sk-toggleable__control:checked~div.sk-toggleable__content {max-height: 200px;max-width: 100%;overflow: auto;}#sk-container-id-11 input.sk-toggleable__control:checked~label.sk-toggleable__label-arrow:before {content: \"▾\";}#sk-container-id-11 div.sk-estimator input.sk-toggleable__control:checked~label.sk-toggleable__label {background-color: #d4ebff;}#sk-container-id-11 div.sk-label input.sk-toggleable__control:checked~label.sk-toggleable__label {background-color: #d4ebff;}#sk-container-id-11 input.sk-hidden--visually {border: 0;clip: rect(1px 1px 1px 1px);clip: rect(1px, 1px, 1px, 1px);height: 1px;margin: -1px;overflow: hidden;padding: 0;position: absolute;width: 1px;}#sk-container-id-11 div.sk-estimator {font-family: monospace;background-color: #f0f8ff;border: 1px dotted black;border-radius: 0.25em;box-sizing: border-box;margin-bottom: 0.5em;}#sk-container-id-11 div.sk-estimator:hover {background-color: #d4ebff;}#sk-container-id-11 div.sk-parallel-item::after {content: \"\";width: 100%;border-bottom: 1px solid gray;flex-grow: 1;}#sk-container-id-11 div.sk-label:hover label.sk-toggleable__label {background-color: #d4ebff;}#sk-container-id-11 div.sk-serial::before {content: \"\";position: absolute;border-left: 1px solid gray;box-sizing: border-box;top: 0;bottom: 0;left: 50%;z-index: 0;}#sk-container-id-11 div.sk-serial {display: flex;flex-direction: column;align-items: center;background-color: white;padding-right: 0.2em;padding-left: 0.2em;position: relative;}#sk-container-id-11 div.sk-item {position: relative;z-index: 1;}#sk-container-id-11 div.sk-parallel {display: flex;align-items: stretch;justify-content: center;background-color: white;position: relative;}#sk-container-id-11 div.sk-item::before, #sk-container-id-11 div.sk-parallel-item::before {content: \"\";position: absolute;border-left: 1px solid gray;box-sizing: border-box;top: 0;bottom: 0;left: 50%;z-index: -1;}#sk-container-id-11 div.sk-parallel-item {display: flex;flex-direction: column;z-index: 1;position: relative;background-color: white;}#sk-container-id-11 div.sk-parallel-item:first-child::after {align-self: flex-end;width: 50%;}#sk-container-id-11 div.sk-parallel-item:last-child::after {align-self: flex-start;width: 50%;}#sk-container-id-11 div.sk-parallel-item:only-child::after {width: 0;}#sk-container-id-11 div.sk-dashed-wrapped {border: 1px dashed gray;margin: 0 0.4em 0.5em 0.4em;box-sizing: border-box;padding-bottom: 0.4em;background-color: white;}#sk-container-id-11 div.sk-label label {font-family: monospace;font-weight: bold;display: inline-block;line-height: 1.2em;}#sk-container-id-11 div.sk-label-container {text-align: center;}#sk-container-id-11 div.sk-container {/* jupyter's `normalize.less` sets `[hidden] { display: none; }` but bootstrap.min.css set `[hidden] { display: none !important; }` so we also need the `!important` here to be able to override the default hidden behavior on the sphinx rendered scikit-learn.org. See: https://github.com/scikit-learn/scikit-learn/issues/21755 */display: inline-block !important;position: relative;}#sk-container-id-11 div.sk-text-repr-fallback {display: none;}</style><div id=\"sk-container-id-11\" class=\"sk-top-container\"><div class=\"sk-text-repr-fallback\"><pre>VotingClassifier(estimators=[(&#x27;mlp&#x27;,\n",
              "                              MLPClassifier(alpha=0.05,\n",
              "                                            hidden_layer_sizes=(20,),\n",
              "                                            learning_rate=&#x27;adaptive&#x27;,\n",
              "                                            max_iter=1000)),\n",
              "                             (&#x27;vtc&#x27;,\n",
              "                              VotingClassifier(estimators=[(&#x27;tree&#x27;,\n",
              "                                                            DecisionTreeClassifier(max_depth=10,\n",
              "                                                                                   random_state=42)),\n",
              "                                                           (&#x27;svc&#x27;, SVC(C=10.0)),\n",
              "                                                           (&#x27;knn&#x27;,\n",
              "                                                            KNeighborsClassifier(n_neighbors=7))]))])</pre><b>In a Jupyter environment, please rerun this cell to show the HTML representation or trust the notebook. <br />On GitHub, the HTML representation is unable to render, please try loading this page with nbviewer.org.</b></div><div class=\"sk-container\" hidden><div class=\"sk-item sk-dashed-wrapped\"><div class=\"sk-label-container\"><div class=\"sk-label sk-toggleable\"><input class=\"sk-toggleable__control sk-hidden--visually\" id=\"sk-estimator-id-25\" type=\"checkbox\" ><label for=\"sk-estimator-id-25\" class=\"sk-toggleable__label sk-toggleable__label-arrow\">VotingClassifier</label><div class=\"sk-toggleable__content\"><pre>VotingClassifier(estimators=[(&#x27;mlp&#x27;,\n",
              "                              MLPClassifier(alpha=0.05,\n",
              "                                            hidden_layer_sizes=(20,),\n",
              "                                            learning_rate=&#x27;adaptive&#x27;,\n",
              "                                            max_iter=1000)),\n",
              "                             (&#x27;vtc&#x27;,\n",
              "                              VotingClassifier(estimators=[(&#x27;tree&#x27;,\n",
              "                                                            DecisionTreeClassifier(max_depth=10,\n",
              "                                                                                   random_state=42)),\n",
              "                                                           (&#x27;svc&#x27;, SVC(C=10.0)),\n",
              "                                                           (&#x27;knn&#x27;,\n",
              "                                                            KNeighborsClassifier(n_neighbors=7))]))])</pre></div></div></div><div class=\"sk-parallel\"><div class=\"sk-parallel-item\"><div class=\"sk-item\"><div class=\"sk-label-container\"><div class=\"sk-label sk-toggleable\"><label>mlp</label></div></div><div class=\"sk-serial\"><div class=\"sk-item\"><div class=\"sk-estimator sk-toggleable\"><input class=\"sk-toggleable__control sk-hidden--visually\" id=\"sk-estimator-id-26\" type=\"checkbox\" ><label for=\"sk-estimator-id-26\" class=\"sk-toggleable__label sk-toggleable__label-arrow\">MLPClassifier</label><div class=\"sk-toggleable__content\"><pre>MLPClassifier(alpha=0.05, hidden_layer_sizes=(20,), learning_rate=&#x27;adaptive&#x27;,\n",
              "              max_iter=1000)</pre></div></div></div></div></div></div><div class=\"sk-parallel-item\"><div class=\"sk-item\"><div class=\"sk-label-container\"><div class=\"sk-label sk-toggleable\"><label>vtc</label></div></div><div class=\"sk-serial\"><div class=\"sk-item sk-dashed-wrapped\"><div class=\"sk-parallel\"><div class=\"sk-parallel-item\"><div class=\"sk-item\"><div class=\"sk-label-container\"><div class=\"sk-label sk-toggleable\"><label>tree</label></div></div><div class=\"sk-serial\"><div class=\"sk-item\"><div class=\"sk-estimator sk-toggleable\"><input class=\"sk-toggleable__control sk-hidden--visually\" id=\"sk-estimator-id-27\" type=\"checkbox\" ><label for=\"sk-estimator-id-27\" class=\"sk-toggleable__label sk-toggleable__label-arrow\">DecisionTreeClassifier</label><div class=\"sk-toggleable__content\"><pre>DecisionTreeClassifier(max_depth=10, random_state=42)</pre></div></div></div></div></div></div><div class=\"sk-parallel-item\"><div class=\"sk-item\"><div class=\"sk-label-container\"><div class=\"sk-label sk-toggleable\"><label>svc</label></div></div><div class=\"sk-serial\"><div class=\"sk-item\"><div class=\"sk-estimator sk-toggleable\"><input class=\"sk-toggleable__control sk-hidden--visually\" id=\"sk-estimator-id-28\" type=\"checkbox\" ><label for=\"sk-estimator-id-28\" class=\"sk-toggleable__label sk-toggleable__label-arrow\">SVC</label><div class=\"sk-toggleable__content\"><pre>SVC(C=10.0)</pre></div></div></div></div></div></div><div class=\"sk-parallel-item\"><div class=\"sk-item\"><div class=\"sk-label-container\"><div class=\"sk-label sk-toggleable\"><label>knn</label></div></div><div class=\"sk-serial\"><div class=\"sk-item\"><div class=\"sk-estimator sk-toggleable\"><input class=\"sk-toggleable__control sk-hidden--visually\" id=\"sk-estimator-id-29\" type=\"checkbox\" ><label for=\"sk-estimator-id-29\" class=\"sk-toggleable__label sk-toggleable__label-arrow\">KNeighborsClassifier</label><div class=\"sk-toggleable__content\"><pre>KNeighborsClassifier(n_neighbors=7)</pre></div></div></div></div></div></div></div></div></div></div></div></div></div></div></div>"
            ]
          },
          "metadata": {},
          "execution_count": 100
        }
      ]
    },
    {
      "cell_type": "code",
      "source": [
        "print(classification_report(y_train, voting_classifier.predict(X_train)))"
      ],
      "metadata": {
        "colab": {
          "base_uri": "https://localhost:8080/"
        },
        "id": "EDPAin4QH1O6",
        "outputId": "2cc6188b-0e29-43ea-b861-5c8a43cd61e9"
      },
      "execution_count": null,
      "outputs": [
        {
          "output_type": "stream",
          "name": "stdout",
          "text": [
            "              precision    recall  f1-score   support\n",
            "\n",
            "           0       0.55      1.00      0.71     25857\n",
            "           1       0.53      0.39      0.45      5734\n",
            "           2       0.55      0.25      0.35      5258\n",
            "           3       0.63      0.18      0.28      4704\n",
            "           4       0.65      0.09      0.16      3748\n",
            "           5       0.78      0.08      0.14      3716\n",
            "           6       0.79      0.07      0.12      3768\n",
            "           7       0.94      0.03      0.05      3215\n",
            "\n",
            "    accuracy                           0.56     56000\n",
            "   macro avg       0.68      0.26      0.28     56000\n",
            "weighted avg       0.62      0.56      0.46     56000\n",
            "\n"
          ]
        }
      ]
    },
    {
      "cell_type": "code",
      "source": [
        "print(classification_report(y_val, voting_classifier.predict(X_val)))"
      ],
      "metadata": {
        "colab": {
          "base_uri": "https://localhost:8080/"
        },
        "id": "7tEy2ZJMHwpn",
        "outputId": "c6890933-5d79-49cc-921a-7351aca091ce"
      },
      "execution_count": null,
      "outputs": [
        {
          "output_type": "stream",
          "name": "stdout",
          "text": [
            "              precision    recall  f1-score   support\n",
            "\n",
            "           0       0.53      0.99      0.69      6464\n",
            "           1       0.47      0.31      0.37      1434\n",
            "           2       0.44      0.16      0.24      1314\n",
            "           3       0.52      0.11      0.19      1176\n",
            "           4       0.39      0.04      0.07       937\n",
            "           5       0.74      0.06      0.10       929\n",
            "           6       0.56      0.03      0.06       942\n",
            "           7       0.89      0.02      0.04       804\n",
            "\n",
            "    accuracy                           0.52     14000\n",
            "   macro avg       0.57      0.22      0.22     14000\n",
            "weighted avg       0.54      0.52      0.41     14000\n",
            "\n"
          ]
        }
      ]
    }
  ],
  "metadata": {
    "colab": {
      "provenance": []
    },
    "kernelspec": {
      "display_name": "Python 3",
      "name": "python3"
    },
    "language_info": {
      "name": "python"
    }
  },
  "nbformat": 4,
  "nbformat_minor": 0
}